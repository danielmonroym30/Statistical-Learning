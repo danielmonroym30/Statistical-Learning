{
 "cells": [
  {
   "cell_type": "markdown",
   "metadata": {},
   "source": [
    "## Proyecto final ML - Daniel Conrado Monroy Madrid 16012674"
   ]
  },
  {
   "cell_type": "code",
   "execution_count": 1,
   "metadata": {},
   "outputs": [],
   "source": [
    "import pandas as pd\n",
    "import numpy as np\n",
    "import tensorflow as tf\n",
    "import matplotlib.pyplot as plt\n",
    "from sklearn.model_selection import train_test_split\n",
    "from sklearn import preprocessing"
   ]
  },
  {
   "cell_type": "code",
   "execution_count": 2,
   "metadata": {},
   "outputs": [],
   "source": [
    "data = pd.read_csv('data_titanic_proyecto.csv')"
   ]
  },
  {
   "cell_type": "code",
   "execution_count": 3,
   "metadata": {},
   "outputs": [
    {
     "name": "stdout",
     "output_type": "stream",
     "text": [
      "<class 'pandas.core.frame.DataFrame'>\n",
      "RangeIndex: 891 entries, 0 to 890\n",
      "Data columns (total 12 columns):\n",
      "PassengerId           891 non-null int64\n",
      "Name                  891 non-null object\n",
      "Age                   714 non-null float64\n",
      "SibSp                 891 non-null int64\n",
      "Parch                 891 non-null int64\n",
      "Ticket                891 non-null object\n",
      "Fare                  891 non-null float64\n",
      "Cabin                 204 non-null object\n",
      "Embarked              889 non-null object\n",
      "passenger_class       891 non-null object\n",
      "passenger_sex         891 non-null object\n",
      "passenger_survived    891 non-null object\n",
      "dtypes: float64(2), int64(3), object(7)\n",
      "memory usage: 83.6+ KB\n"
     ]
    }
   ],
   "source": [
    "data.info()"
   ]
  },
  {
   "cell_type": "markdown",
   "metadata": {},
   "source": [
    "Se aplica el criterio de utilizar features o características generales (se descarta PassengerId,SibSp,Parch,Ticket y Cabin (debido a la gran cantidad nan's que posee), por lo tanto, se decide utilizar las siguientes variables: \n",
    "1) Age,\n",
    "2) Fare,\n",
    "3) Embarked,\n",
    "4) passenger_class,\n",
    "5) passenger_sex y \n",
    "6) passenger_survived (que en realidad es la variable objetivo \"y\")."
   ]
  },
  {
   "cell_type": "code",
   "execution_count": 4,
   "metadata": {},
   "outputs": [
    {
     "data": {
      "text/html": [
       "<div>\n",
       "<style scoped>\n",
       "    .dataframe tbody tr th:only-of-type {\n",
       "        vertical-align: middle;\n",
       "    }\n",
       "\n",
       "    .dataframe tbody tr th {\n",
       "        vertical-align: top;\n",
       "    }\n",
       "\n",
       "    .dataframe thead th {\n",
       "        text-align: right;\n",
       "    }\n",
       "</style>\n",
       "<table border=\"1\" class=\"dataframe\">\n",
       "  <thead>\n",
       "    <tr style=\"text-align: right;\">\n",
       "      <th></th>\n",
       "      <th>PassengerId</th>\n",
       "      <th>Age</th>\n",
       "      <th>SibSp</th>\n",
       "      <th>Parch</th>\n",
       "      <th>Fare</th>\n",
       "    </tr>\n",
       "  </thead>\n",
       "  <tbody>\n",
       "    <tr>\n",
       "      <th>count</th>\n",
       "      <td>891.000000</td>\n",
       "      <td>714.000000</td>\n",
       "      <td>891.000000</td>\n",
       "      <td>891.000000</td>\n",
       "      <td>891.000000</td>\n",
       "    </tr>\n",
       "    <tr>\n",
       "      <th>mean</th>\n",
       "      <td>446.000000</td>\n",
       "      <td>29.699118</td>\n",
       "      <td>0.523008</td>\n",
       "      <td>0.381594</td>\n",
       "      <td>32.204208</td>\n",
       "    </tr>\n",
       "    <tr>\n",
       "      <th>std</th>\n",
       "      <td>257.353842</td>\n",
       "      <td>14.526497</td>\n",
       "      <td>1.102743</td>\n",
       "      <td>0.806057</td>\n",
       "      <td>49.693429</td>\n",
       "    </tr>\n",
       "    <tr>\n",
       "      <th>min</th>\n",
       "      <td>1.000000</td>\n",
       "      <td>0.420000</td>\n",
       "      <td>0.000000</td>\n",
       "      <td>0.000000</td>\n",
       "      <td>0.000000</td>\n",
       "    </tr>\n",
       "    <tr>\n",
       "      <th>25%</th>\n",
       "      <td>223.500000</td>\n",
       "      <td>20.125000</td>\n",
       "      <td>0.000000</td>\n",
       "      <td>0.000000</td>\n",
       "      <td>7.910400</td>\n",
       "    </tr>\n",
       "    <tr>\n",
       "      <th>50%</th>\n",
       "      <td>446.000000</td>\n",
       "      <td>28.000000</td>\n",
       "      <td>0.000000</td>\n",
       "      <td>0.000000</td>\n",
       "      <td>14.454200</td>\n",
       "    </tr>\n",
       "    <tr>\n",
       "      <th>75%</th>\n",
       "      <td>668.500000</td>\n",
       "      <td>38.000000</td>\n",
       "      <td>1.000000</td>\n",
       "      <td>0.000000</td>\n",
       "      <td>31.000000</td>\n",
       "    </tr>\n",
       "    <tr>\n",
       "      <th>max</th>\n",
       "      <td>891.000000</td>\n",
       "      <td>80.000000</td>\n",
       "      <td>8.000000</td>\n",
       "      <td>6.000000</td>\n",
       "      <td>512.329200</td>\n",
       "    </tr>\n",
       "  </tbody>\n",
       "</table>\n",
       "</div>"
      ],
      "text/plain": [
       "       PassengerId         Age       SibSp       Parch        Fare\n",
       "count   891.000000  714.000000  891.000000  891.000000  891.000000\n",
       "mean    446.000000   29.699118    0.523008    0.381594   32.204208\n",
       "std     257.353842   14.526497    1.102743    0.806057   49.693429\n",
       "min       1.000000    0.420000    0.000000    0.000000    0.000000\n",
       "25%     223.500000   20.125000    0.000000    0.000000    7.910400\n",
       "50%     446.000000   28.000000    0.000000    0.000000   14.454200\n",
       "75%     668.500000   38.000000    1.000000    0.000000   31.000000\n",
       "max     891.000000   80.000000    8.000000    6.000000  512.329200"
      ]
     },
     "execution_count": 4,
     "metadata": {},
     "output_type": "execute_result"
    }
   ],
   "source": [
    "data.describe()"
   ]
  },
  {
   "cell_type": "code",
   "execution_count": 5,
   "metadata": {},
   "outputs": [
    {
     "data": {
      "text/plain": [
       "0    S\n",
       "dtype: object"
      ]
     },
     "execution_count": 5,
     "metadata": {},
     "output_type": "execute_result"
    }
   ],
   "source": [
    "data['Embarked'].mode()"
   ]
  },
  {
   "cell_type": "markdown",
   "metadata": {},
   "source": [
    "Como se puede observar en la info, Age tiene varios valores nan y Embarked cuenta con únicamente con 2. Para tratar el problema, se limpiará la variable Age llenando los espacios con la mediana y para la variable Embarked se  llenarán los espacios utilizando la moda (S = Southampton)."
   ]
  },
  {
   "cell_type": "code",
   "execution_count": 6,
   "metadata": {},
   "outputs": [],
   "source": [
    "dataset = data.drop(['PassengerId', 'Name', 'SibSp', 'Parch', 'Ticket', 'Cabin'], axis = 1)"
   ]
  },
  {
   "cell_type": "code",
   "execution_count": 7,
   "metadata": {},
   "outputs": [],
   "source": [
    "cleanAge = dataset['Age'].fillna(dataset['Age'].median()) #Limpiar nan de Age, llenando con la mediana. \n",
    "dataset = dataset.drop(['Age'], axis=1)\n",
    "dataset['Age'] = cleanAge"
   ]
  },
  {
   "cell_type": "code",
   "execution_count": 8,
   "metadata": {},
   "outputs": [],
   "source": [
    "cleanEmbarked = dataset['Embarked'].astype(object).fillna('S') #Limpiar Embarked llenando con la moda. \n",
    "dataset = dataset.drop(['Embarked'], axis=1)\n",
    "dataset['Embarked'] = cleanEmbarked"
   ]
  },
  {
   "cell_type": "code",
   "execution_count": 9,
   "metadata": {},
   "outputs": [
    {
     "name": "stdout",
     "output_type": "stream",
     "text": [
      "<class 'pandas.core.frame.DataFrame'>\n",
      "RangeIndex: 891 entries, 0 to 890\n",
      "Data columns (total 6 columns):\n",
      "Fare                  891 non-null float64\n",
      "passenger_class       891 non-null object\n",
      "passenger_sex         891 non-null object\n",
      "passenger_survived    891 non-null object\n",
      "Age                   891 non-null float64\n",
      "Embarked              891 non-null object\n",
      "dtypes: float64(2), object(4)\n",
      "memory usage: 41.8+ KB\n"
     ]
    }
   ],
   "source": [
    "dataset.info()"
   ]
  },
  {
   "cell_type": "markdown",
   "metadata": {},
   "source": [
    "En este paso se asignan valores numéricos a las variables categóricas a través de Label Encoder:"
   ]
  },
  {
   "cell_type": "code",
   "execution_count": 10,
   "metadata": {},
   "outputs": [],
   "source": [
    "label_encoder = preprocessing.LabelEncoder()\n",
    "label_encoder.fit(dataset['Embarked'])\n",
    "embarked = label_encoder.transform(dataset['Embarked'])\n",
    "label_encoder.fit(dataset['passenger_sex'])\n",
    "sex = label_encoder.transform(dataset['passenger_sex'])\n",
    "label_encoder.fit(dataset['passenger_class'])\n",
    "pclass = label_encoder.transform(dataset['passenger_class'])\n",
    "label_encoder.fit(dataset['passenger_survived'])\n",
    "psurvived = label_encoder.transform(dataset['passenger_survived'])"
   ]
  },
  {
   "cell_type": "code",
   "execution_count": 11,
   "metadata": {},
   "outputs": [
    {
     "name": "stdout",
     "output_type": "stream",
     "text": [
      "<class 'pandas.core.frame.DataFrame'>\n",
      "RangeIndex: 891 entries, 0 to 890\n",
      "Data columns (total 6 columns):\n",
      "Fare                  891 non-null float64\n",
      "Age                   891 non-null float64\n",
      "Embarked              891 non-null int32\n",
      "passenger_sex         891 non-null int32\n",
      "passenger_class       891 non-null int32\n",
      "passenger_survived    891 non-null int32\n",
      "dtypes: float64(2), int32(4)\n",
      "memory usage: 27.9 KB\n"
     ]
    }
   ],
   "source": [
    "dataset = dataset.drop(['passenger_class','passenger_survived','Embarked', 'passenger_sex'], axis = 1)\n",
    "dataset['Embarked'] = embarked\n",
    "dataset['passenger_sex'] = sex\n",
    "dataset['passenger_class'] = pclass\n",
    "dataset['passenger_survived'] = psurvived\n",
    "\n",
    "dataset.info()"
   ]
  },
  {
   "cell_type": "markdown",
   "metadata": {},
   "source": [
    "Ahora se normalizará la data:"
   ]
  },
  {
   "cell_type": "code",
   "execution_count": 12,
   "metadata": {},
   "outputs": [],
   "source": [
    "from sklearn.preprocessing import normalize"
   ]
  },
  {
   "cell_type": "code",
   "execution_count": 13,
   "metadata": {},
   "outputs": [],
   "source": [
    "features=dataset.iloc[:,0:2]"
   ]
  },
  {
   "cell_type": "code",
   "execution_count": 14,
   "metadata": {},
   "outputs": [
    {
     "data": {
      "text/plain": [
       "array([[0.31298812, 0.94975704],\n",
       "       [0.88244422, 0.47041706],\n",
       "       [0.29156418, 0.95655127],\n",
       "       ...,\n",
       "       [0.64206767, 0.76664797],\n",
       "       [0.75568908, 0.65493054],\n",
       "       [0.2353827 , 0.97190276]])"
      ]
     },
     "execution_count": 14,
     "metadata": {},
     "output_type": "execute_result"
    }
   ],
   "source": [
    "normalize=preprocessing.normalize(features)\n",
    "normalize"
   ]
  },
  {
   "cell_type": "code",
   "execution_count": 15,
   "metadata": {},
   "outputs": [],
   "source": [
    "Farenorm=normalize[:,0]\n",
    "Agenorm=normalize[:,1]"
   ]
  },
  {
   "cell_type": "code",
   "execution_count": 16,
   "metadata": {},
   "outputs": [],
   "source": [
    "dataset['Fare']=Farenorm\n",
    "dataset['Age']=Agenorm"
   ]
  },
  {
   "cell_type": "code",
   "execution_count": 17,
   "metadata": {},
   "outputs": [
    {
     "data": {
      "text/html": [
       "<div>\n",
       "<style scoped>\n",
       "    .dataframe tbody tr th:only-of-type {\n",
       "        vertical-align: middle;\n",
       "    }\n",
       "\n",
       "    .dataframe tbody tr th {\n",
       "        vertical-align: top;\n",
       "    }\n",
       "\n",
       "    .dataframe thead th {\n",
       "        text-align: right;\n",
       "    }\n",
       "</style>\n",
       "<table border=\"1\" class=\"dataframe\">\n",
       "  <thead>\n",
       "    <tr style=\"text-align: right;\">\n",
       "      <th></th>\n",
       "      <th>Fare</th>\n",
       "      <th>Age</th>\n",
       "      <th>Embarked</th>\n",
       "      <th>passenger_sex</th>\n",
       "      <th>passenger_class</th>\n",
       "      <th>passenger_survived</th>\n",
       "    </tr>\n",
       "  </thead>\n",
       "  <tbody>\n",
       "    <tr>\n",
       "      <th>0</th>\n",
       "      <td>0.312988</td>\n",
       "      <td>0.949757</td>\n",
       "      <td>2</td>\n",
       "      <td>1</td>\n",
       "      <td>0</td>\n",
       "      <td>0</td>\n",
       "    </tr>\n",
       "    <tr>\n",
       "      <th>1</th>\n",
       "      <td>0.882444</td>\n",
       "      <td>0.470417</td>\n",
       "      <td>0</td>\n",
       "      <td>0</td>\n",
       "      <td>2</td>\n",
       "      <td>1</td>\n",
       "    </tr>\n",
       "    <tr>\n",
       "      <th>2</th>\n",
       "      <td>0.291564</td>\n",
       "      <td>0.956551</td>\n",
       "      <td>2</td>\n",
       "      <td>0</td>\n",
       "      <td>0</td>\n",
       "      <td>1</td>\n",
       "    </tr>\n",
       "    <tr>\n",
       "      <th>3</th>\n",
       "      <td>0.834942</td>\n",
       "      <td>0.550338</td>\n",
       "      <td>2</td>\n",
       "      <td>0</td>\n",
       "      <td>2</td>\n",
       "      <td>1</td>\n",
       "    </tr>\n",
       "    <tr>\n",
       "      <th>4</th>\n",
       "      <td>0.224148</td>\n",
       "      <td>0.974555</td>\n",
       "      <td>2</td>\n",
       "      <td>1</td>\n",
       "      <td>0</td>\n",
       "      <td>0</td>\n",
       "    </tr>\n",
       "  </tbody>\n",
       "</table>\n",
       "</div>"
      ],
      "text/plain": [
       "       Fare       Age  Embarked  passenger_sex  passenger_class  \\\n",
       "0  0.312988  0.949757         2              1                0   \n",
       "1  0.882444  0.470417         0              0                2   \n",
       "2  0.291564  0.956551         2              0                0   \n",
       "3  0.834942  0.550338         2              0                2   \n",
       "4  0.224148  0.974555         2              1                0   \n",
       "\n",
       "   passenger_survived  \n",
       "0                   0  \n",
       "1                   1  \n",
       "2                   1  \n",
       "3                   1  \n",
       "4                   0  "
      ]
     },
     "execution_count": 17,
     "metadata": {},
     "output_type": "execute_result"
    }
   ],
   "source": [
    "dataset.head()"
   ]
  },
  {
   "cell_type": "markdown",
   "metadata": {},
   "source": [
    "A continuación se separa la data en train, val y test:"
   ]
  },
  {
   "cell_type": "code",
   "execution_count": 135,
   "metadata": {},
   "outputs": [],
   "source": [
    "y = dataset['passenger_survived'] \n",
    "y = pd.DataFrame(y,columns=['passenger_survived'])#Split data \n",
    "x = dataset.drop(['passenger_survived'],axis=1)"
   ]
  },
  {
   "cell_type": "code",
   "execution_count": 236,
   "metadata": {},
   "outputs": [],
   "source": [
    "X_train, X_test, y_train, y_test = train_test_split(x, y, test_size=0.2, random_state=1)"
   ]
  },
  {
   "cell_type": "code",
   "execution_count": 237,
   "metadata": {},
   "outputs": [],
   "source": [
    "X_train, X_val, y_train, y_val = train_test_split(X_train, y_train, test_size=0.2, random_state=1)"
   ]
  },
  {
   "cell_type": "code",
   "execution_count": 238,
   "metadata": {},
   "outputs": [
    {
     "name": "stdout",
     "output_type": "stream",
     "text": [
      "(569, 5)\n",
      "(143, 5)\n",
      "(179, 5)\n",
      "(569, 1)\n",
      "(143, 1)\n",
      "(179, 1)\n"
     ]
    }
   ],
   "source": [
    "print(X_train.shape)\n",
    "print(X_val.shape)\n",
    "print(X_test.shape)\n",
    "print(y_train.shape)\n",
    "print(y_val.shape)\n",
    "print(y_test.shape)"
   ]
  },
  {
   "cell_type": "markdown",
   "metadata": {},
   "source": [
    "Se importan las funciones que provee sklearn para el cálculo de métricas:"
   ]
  },
  {
   "cell_type": "code",
   "execution_count": 23,
   "metadata": {},
   "outputs": [],
   "source": [
    "from sklearn.metrics import f1_score\n",
    "from sklearn.metrics import classification_report\n",
    "from sklearn.metrics import accuracy_score\n",
    "from sklearn.metrics import precision_score\n",
    "from sklearn.metrics import recall_score"
   ]
  },
  {
   "cell_type": "markdown",
   "metadata": {},
   "source": [
    "## 1. Decision tree"
   ]
  },
  {
   "cell_type": "code",
   "execution_count": 22,
   "metadata": {},
   "outputs": [],
   "source": [
    "from sklearn import tree"
   ]
  },
  {
   "cell_type": "code",
   "execution_count": 24,
   "metadata": {},
   "outputs": [],
   "source": [
    "def decisiontree(md,X,Y):\n",
    "    clasificador_gini = tree.DecisionTreeClassifier(criterion = 'gini', max_depth=md)\n",
    "    clasificador_gini.fit(X_train, y_train)\n",
    "    yhat_gini = clasificador_gini.predict(X)\n",
    "    accuracy = accuracy_score(Y,yhat_gini)\n",
    "    error = 1 - accuracy\n",
    "    reporte = classification_report(Y, yhat_gini)\n",
    "    f1 = f1_score(Y,yhat_gini)\n",
    "    precision = precision_score(Y,yhat_gini)\n",
    "    recall = recall_score(Y,yhat_gini)\n",
    "    metricas_array = np.array([accuracy,error,precision,recall,f1])\n",
    "    df_metricas=pd.DataFrame(metricas_array,index=['Accuracy','Error','Precision','Recall','F1'])\n",
    "    lista=[df_metricas,yhat_gini]\n",
    "    return lista"
   ]
  },
  {
   "cell_type": "code",
   "execution_count": 27,
   "metadata": {},
   "outputs": [
    {
     "data": {
      "text/html": [
       "<div>\n",
       "<style scoped>\n",
       "    .dataframe tbody tr th:only-of-type {\n",
       "        vertical-align: middle;\n",
       "    }\n",
       "\n",
       "    .dataframe tbody tr th {\n",
       "        vertical-align: top;\n",
       "    }\n",
       "\n",
       "    .dataframe thead th {\n",
       "        text-align: right;\n",
       "    }\n",
       "</style>\n",
       "<table border=\"1\" class=\"dataframe\">\n",
       "  <thead>\n",
       "    <tr style=\"text-align: right;\">\n",
       "      <th></th>\n",
       "      <th>0</th>\n",
       "    </tr>\n",
       "  </thead>\n",
       "  <tbody>\n",
       "    <tr>\n",
       "      <th>Accuracy</th>\n",
       "      <td>0.841828</td>\n",
       "    </tr>\n",
       "    <tr>\n",
       "      <th>Error</th>\n",
       "      <td>0.158172</td>\n",
       "    </tr>\n",
       "    <tr>\n",
       "      <th>Precision</th>\n",
       "      <td>0.904459</td>\n",
       "    </tr>\n",
       "    <tr>\n",
       "      <th>Recall</th>\n",
       "      <td>0.654378</td>\n",
       "    </tr>\n",
       "    <tr>\n",
       "      <th>F1</th>\n",
       "      <td>0.759358</td>\n",
       "    </tr>\n",
       "  </tbody>\n",
       "</table>\n",
       "</div>"
      ],
      "text/plain": [
       "                  0\n",
       "Accuracy   0.841828\n",
       "Error      0.158172\n",
       "Precision  0.904459\n",
       "Recall     0.654378\n",
       "F1         0.759358"
      ]
     },
     "execution_count": 27,
     "metadata": {},
     "output_type": "execute_result"
    }
   ],
   "source": [
    "dtreetrain1=decisiontree(3,X_train,y_train)\n",
    "dtreetrain1[0]"
   ]
  },
  {
   "cell_type": "code",
   "execution_count": 28,
   "metadata": {},
   "outputs": [
    {
     "data": {
      "text/html": [
       "<div>\n",
       "<style scoped>\n",
       "    .dataframe tbody tr th:only-of-type {\n",
       "        vertical-align: middle;\n",
       "    }\n",
       "\n",
       "    .dataframe tbody tr th {\n",
       "        vertical-align: top;\n",
       "    }\n",
       "\n",
       "    .dataframe thead th {\n",
       "        text-align: right;\n",
       "    }\n",
       "</style>\n",
       "<table border=\"1\" class=\"dataframe\">\n",
       "  <thead>\n",
       "    <tr style=\"text-align: right;\">\n",
       "      <th></th>\n",
       "      <th>0</th>\n",
       "    </tr>\n",
       "  </thead>\n",
       "  <tbody>\n",
       "    <tr>\n",
       "      <th>Accuracy</th>\n",
       "      <td>0.797203</td>\n",
       "    </tr>\n",
       "    <tr>\n",
       "      <th>Error</th>\n",
       "      <td>0.202797</td>\n",
       "    </tr>\n",
       "    <tr>\n",
       "      <th>Precision</th>\n",
       "      <td>0.828571</td>\n",
       "    </tr>\n",
       "    <tr>\n",
       "      <th>Recall</th>\n",
       "      <td>0.557692</td>\n",
       "    </tr>\n",
       "    <tr>\n",
       "      <th>F1</th>\n",
       "      <td>0.666667</td>\n",
       "    </tr>\n",
       "  </tbody>\n",
       "</table>\n",
       "</div>"
      ],
      "text/plain": [
       "                  0\n",
       "Accuracy   0.797203\n",
       "Error      0.202797\n",
       "Precision  0.828571\n",
       "Recall     0.557692\n",
       "F1         0.666667"
      ]
     },
     "execution_count": 28,
     "metadata": {},
     "output_type": "execute_result"
    }
   ],
   "source": [
    "dtreeval1=decisiontree(3,X_val,y_val)\n",
    "dtreeval1[0]"
   ]
  },
  {
   "cell_type": "code",
   "execution_count": 29,
   "metadata": {},
   "outputs": [
    {
     "data": {
      "text/html": [
       "<div>\n",
       "<style scoped>\n",
       "    .dataframe tbody tr th:only-of-type {\n",
       "        vertical-align: middle;\n",
       "    }\n",
       "\n",
       "    .dataframe tbody tr th {\n",
       "        vertical-align: top;\n",
       "    }\n",
       "\n",
       "    .dataframe thead th {\n",
       "        text-align: right;\n",
       "    }\n",
       "</style>\n",
       "<table border=\"1\" class=\"dataframe\">\n",
       "  <thead>\n",
       "    <tr style=\"text-align: right;\">\n",
       "      <th></th>\n",
       "      <th>0</th>\n",
       "    </tr>\n",
       "  </thead>\n",
       "  <tbody>\n",
       "    <tr>\n",
       "      <th>Accuracy</th>\n",
       "      <td>0.783217</td>\n",
       "    </tr>\n",
       "    <tr>\n",
       "      <th>Error</th>\n",
       "      <td>0.216783</td>\n",
       "    </tr>\n",
       "    <tr>\n",
       "      <th>Precision</th>\n",
       "      <td>0.769231</td>\n",
       "    </tr>\n",
       "    <tr>\n",
       "      <th>Recall</th>\n",
       "      <td>0.576923</td>\n",
       "    </tr>\n",
       "    <tr>\n",
       "      <th>F1</th>\n",
       "      <td>0.659341</td>\n",
       "    </tr>\n",
       "  </tbody>\n",
       "</table>\n",
       "</div>"
      ],
      "text/plain": [
       "                  0\n",
       "Accuracy   0.783217\n",
       "Error      0.216783\n",
       "Precision  0.769231\n",
       "Recall     0.576923\n",
       "F1         0.659341"
      ]
     },
     "execution_count": 29,
     "metadata": {},
     "output_type": "execute_result"
    }
   ],
   "source": [
    "dtreeval2=decisiontree(5,X_val,y_val)\n",
    "dtreeval2[0]"
   ]
  },
  {
   "cell_type": "code",
   "execution_count": 35,
   "metadata": {},
   "outputs": [
    {
     "data": {
      "text/html": [
       "<div>\n",
       "<style scoped>\n",
       "    .dataframe tbody tr th:only-of-type {\n",
       "        vertical-align: middle;\n",
       "    }\n",
       "\n",
       "    .dataframe tbody tr th {\n",
       "        vertical-align: top;\n",
       "    }\n",
       "\n",
       "    .dataframe thead th {\n",
       "        text-align: right;\n",
       "    }\n",
       "</style>\n",
       "<table border=\"1\" class=\"dataframe\">\n",
       "  <thead>\n",
       "    <tr style=\"text-align: right;\">\n",
       "      <th></th>\n",
       "      <th>Modelo</th>\n",
       "      <th>Cadena de configuración</th>\n",
       "      <th>Accuracy</th>\n",
       "      <th>Error</th>\n",
       "      <th>Precision</th>\n",
       "      <th>Recall</th>\n",
       "      <th>F1</th>\n",
       "    </tr>\n",
       "  </thead>\n",
       "  <tbody>\n",
       "    <tr>\n",
       "      <th>0</th>\n",
       "      <td>Decision tree</td>\n",
       "      <td>D Tree train,md=3</td>\n",
       "      <td>0.841828</td>\n",
       "      <td>0.158172</td>\n",
       "      <td>0.904459</td>\n",
       "      <td>0.654378</td>\n",
       "      <td>0.759358</td>\n",
       "    </tr>\n",
       "    <tr>\n",
       "      <th>0</th>\n",
       "      <td>Decision tree</td>\n",
       "      <td>D Tree val,md=3</td>\n",
       "      <td>0.797203</td>\n",
       "      <td>0.202797</td>\n",
       "      <td>0.828571</td>\n",
       "      <td>0.557692</td>\n",
       "      <td>0.666667</td>\n",
       "    </tr>\n",
       "    <tr>\n",
       "      <th>0</th>\n",
       "      <td>Decision tree</td>\n",
       "      <td>D Tree val,md=5</td>\n",
       "      <td>0.783217</td>\n",
       "      <td>0.216783</td>\n",
       "      <td>0.769231</td>\n",
       "      <td>0.576923</td>\n",
       "      <td>0.659341</td>\n",
       "    </tr>\n",
       "  </tbody>\n",
       "</table>\n",
       "</div>"
      ],
      "text/plain": [
       "          Modelo Cadena de configuración  Accuracy     Error  Precision  \\\n",
       "0  Decision tree       D Tree train,md=3  0.841828  0.158172   0.904459   \n",
       "0  Decision tree         D Tree val,md=3  0.797203  0.202797   0.828571   \n",
       "0  Decision tree         D Tree val,md=5  0.783217  0.216783   0.769231   \n",
       "\n",
       "     Recall        F1  \n",
       "0  0.654378  0.759358  \n",
       "0  0.557692  0.666667  \n",
       "0  0.576923  0.659341  "
      ]
     },
     "execution_count": 35,
     "metadata": {},
     "output_type": "execute_result"
    }
   ],
   "source": [
    "dt = pd.concat([dtreetrain1[0],dtreeval1[0],dtreeval2[0]],axis=1).T\n",
    "dt['Cadena de configuración'] = 'D Tree train,md=3','D Tree val,md=3','D Tree val,md=5'\n",
    "dt['Modelo'] = 'Decision tree','Decision tree','Decision tree'\n",
    "dt = dt[['Modelo','Cadena de configuración','Accuracy','Error','Precision','Recall','F1']]\n",
    "dt"
   ]
  },
  {
   "cell_type": "markdown",
   "metadata": {},
   "source": [
    "## 2. SVM"
   ]
  },
  {
   "cell_type": "code",
   "execution_count": 69,
   "metadata": {},
   "outputs": [],
   "source": [
    "from sklearn.svm import SVC"
   ]
  },
  {
   "cell_type": "code",
   "execution_count": 75,
   "metadata": {},
   "outputs": [],
   "source": [
    "def svm(X,Y,c):\n",
    "    svm_titanic = SVC(kernel='linear',C=c)\n",
    "    svm_titanic.fit(X_train, y_train['passenger_survived'])\n",
    "    y_hat_svm = svm_titanic.predict(X)\n",
    "    svm_accuracy = accuracy_score(Y, y_hat_svm)\n",
    "    svm_error = 1 - svm_accuracy\n",
    "    svm_precision =  precision_score(Y,y_hat_svm)\n",
    "    svm_recall = recall_score(Y,y_hat_svm)\n",
    "    svm_f1 = f1_score(Y,y_hat_svm)\n",
    "    metricas_svm = np.array([svm_accuracy,svm_error,svm_precision,svm_recall,svm_f1])\n",
    "    df_metricas=pd.DataFrame(metricas_svm,index=['Accuracy','Error','Precision','Recall','F1'])\n",
    "    listasvm=[df_metricas,y_hat_svm]\n",
    "    return listasvm"
   ]
  },
  {
   "cell_type": "code",
   "execution_count": 83,
   "metadata": {},
   "outputs": [
    {
     "data": {
      "text/html": [
       "<div>\n",
       "<style scoped>\n",
       "    .dataframe tbody tr th:only-of-type {\n",
       "        vertical-align: middle;\n",
       "    }\n",
       "\n",
       "    .dataframe tbody tr th {\n",
       "        vertical-align: top;\n",
       "    }\n",
       "\n",
       "    .dataframe thead th {\n",
       "        text-align: right;\n",
       "    }\n",
       "</style>\n",
       "<table border=\"1\" class=\"dataframe\">\n",
       "  <thead>\n",
       "    <tr style=\"text-align: right;\">\n",
       "      <th></th>\n",
       "      <th>0</th>\n",
       "    </tr>\n",
       "  </thead>\n",
       "  <tbody>\n",
       "    <tr>\n",
       "      <th>Accuracy</th>\n",
       "      <td>0.799649</td>\n",
       "    </tr>\n",
       "    <tr>\n",
       "      <th>Error</th>\n",
       "      <td>0.200351</td>\n",
       "    </tr>\n",
       "    <tr>\n",
       "      <th>Precision</th>\n",
       "      <td>0.758794</td>\n",
       "    </tr>\n",
       "    <tr>\n",
       "      <th>Recall</th>\n",
       "      <td>0.695853</td>\n",
       "    </tr>\n",
       "    <tr>\n",
       "      <th>F1</th>\n",
       "      <td>0.725962</td>\n",
       "    </tr>\n",
       "  </tbody>\n",
       "</table>\n",
       "</div>"
      ],
      "text/plain": [
       "                  0\n",
       "Accuracy   0.799649\n",
       "Error      0.200351\n",
       "Precision  0.758794\n",
       "Recall     0.695853\n",
       "F1         0.725962"
      ]
     },
     "execution_count": 83,
     "metadata": {},
     "output_type": "execute_result"
    }
   ],
   "source": [
    "svmtrain1=svm(X_train,y_train,0.8)\n",
    "svmtrain1[0]"
   ]
  },
  {
   "cell_type": "code",
   "execution_count": 80,
   "metadata": {},
   "outputs": [
    {
     "data": {
      "text/html": [
       "<div>\n",
       "<style scoped>\n",
       "    .dataframe tbody tr th:only-of-type {\n",
       "        vertical-align: middle;\n",
       "    }\n",
       "\n",
       "    .dataframe tbody tr th {\n",
       "        vertical-align: top;\n",
       "    }\n",
       "\n",
       "    .dataframe thead th {\n",
       "        text-align: right;\n",
       "    }\n",
       "</style>\n",
       "<table border=\"1\" class=\"dataframe\">\n",
       "  <thead>\n",
       "    <tr style=\"text-align: right;\">\n",
       "      <th></th>\n",
       "      <th>0</th>\n",
       "    </tr>\n",
       "  </thead>\n",
       "  <tbody>\n",
       "    <tr>\n",
       "      <th>Accuracy</th>\n",
       "      <td>0.748252</td>\n",
       "    </tr>\n",
       "    <tr>\n",
       "      <th>Error</th>\n",
       "      <td>0.251748</td>\n",
       "    </tr>\n",
       "    <tr>\n",
       "      <th>Precision</th>\n",
       "      <td>0.660000</td>\n",
       "    </tr>\n",
       "    <tr>\n",
       "      <th>Recall</th>\n",
       "      <td>0.634615</td>\n",
       "    </tr>\n",
       "    <tr>\n",
       "      <th>F1</th>\n",
       "      <td>0.647059</td>\n",
       "    </tr>\n",
       "  </tbody>\n",
       "</table>\n",
       "</div>"
      ],
      "text/plain": [
       "                  0\n",
       "Accuracy   0.748252\n",
       "Error      0.251748\n",
       "Precision  0.660000\n",
       "Recall     0.634615\n",
       "F1         0.647059"
      ]
     },
     "execution_count": 80,
     "metadata": {},
     "output_type": "execute_result"
    }
   ],
   "source": [
    "svmval1=svm(X_val,y_val,0.8)\n",
    "svmval1[0]"
   ]
  },
  {
   "cell_type": "code",
   "execution_count": 84,
   "metadata": {},
   "outputs": [],
   "source": [
    "sv = pd.concat([svmtrain1[0],svmval1[0]],axis=1).T\n",
    "sv['Cadena de configuración'] = 'SVM train1,C=0.8','SVM val1,C=0.8'\n",
    "sv['Modelo'] = 'SVM','SVM'\n",
    "sv = sv[['Modelo','Cadena de configuración','Accuracy','Error','Precision','Recall','F1']]"
   ]
  },
  {
   "cell_type": "code",
   "execution_count": 85,
   "metadata": {},
   "outputs": [
    {
     "data": {
      "text/html": [
       "<div>\n",
       "<style scoped>\n",
       "    .dataframe tbody tr th:only-of-type {\n",
       "        vertical-align: middle;\n",
       "    }\n",
       "\n",
       "    .dataframe tbody tr th {\n",
       "        vertical-align: top;\n",
       "    }\n",
       "\n",
       "    .dataframe thead th {\n",
       "        text-align: right;\n",
       "    }\n",
       "</style>\n",
       "<table border=\"1\" class=\"dataframe\">\n",
       "  <thead>\n",
       "    <tr style=\"text-align: right;\">\n",
       "      <th></th>\n",
       "      <th>Modelo</th>\n",
       "      <th>Cadena de configuración</th>\n",
       "      <th>Accuracy</th>\n",
       "      <th>Error</th>\n",
       "      <th>Precision</th>\n",
       "      <th>Recall</th>\n",
       "      <th>F1</th>\n",
       "    </tr>\n",
       "  </thead>\n",
       "  <tbody>\n",
       "    <tr>\n",
       "      <th>0</th>\n",
       "      <td>SVM</td>\n",
       "      <td>SVM train1,C=0.8</td>\n",
       "      <td>0.799649</td>\n",
       "      <td>0.200351</td>\n",
       "      <td>0.758794</td>\n",
       "      <td>0.695853</td>\n",
       "      <td>0.725962</td>\n",
       "    </tr>\n",
       "    <tr>\n",
       "      <th>0</th>\n",
       "      <td>SVM</td>\n",
       "      <td>SVM val1,C=0.8</td>\n",
       "      <td>0.748252</td>\n",
       "      <td>0.251748</td>\n",
       "      <td>0.660000</td>\n",
       "      <td>0.634615</td>\n",
       "      <td>0.647059</td>\n",
       "    </tr>\n",
       "  </tbody>\n",
       "</table>\n",
       "</div>"
      ],
      "text/plain": [
       "  Modelo Cadena de configuración  Accuracy     Error  Precision    Recall  \\\n",
       "0    SVM        SVM train1,C=0.8  0.799649  0.200351   0.758794  0.695853   \n",
       "0    SVM          SVM val1,C=0.8  0.748252  0.251748   0.660000  0.634615   \n",
       "\n",
       "         F1  \n",
       "0  0.725962  \n",
       "0  0.647059  "
      ]
     },
     "execution_count": 85,
     "metadata": {},
     "output_type": "execute_result"
    }
   ],
   "source": [
    "sv"
   ]
  },
  {
   "cell_type": "markdown",
   "metadata": {},
   "source": [
    "## 3. Naive Bayes"
   ]
  },
  {
   "cell_type": "markdown",
   "metadata": {},
   "source": [
    "Para poder calcular la tabla de frecuencias es preciso transformar las variables continuas en categóricas. Dicha tarea se logra -entre otros métodos- utilizando cuartiles para dividir a la data. La función de abajo realiza dicha tarea y devuelve un dataframe con las variables tranformadas.  "
   ]
  },
  {
   "cell_type": "code",
   "execution_count": 88,
   "metadata": {},
   "outputs": [],
   "source": [
    "def dataq(data): ##Transformar variables continuas en categóricas usando cuartiles\n",
    "    df=data\n",
    "    datafare=pd.qcut(df['Fare'],4,labels=False)\n",
    "    dataage=pd.qcut(df['Age'],4,labels=False)\n",
    "    df=df.drop(['Fare','Age'],axis=1)\n",
    "    df['Fare']=datafare\n",
    "    df['Age']=dataage\n",
    "    return df  #La funcion devuelve el dataframe transformado"
   ]
  },
  {
   "cell_type": "code",
   "execution_count": 89,
   "metadata": {},
   "outputs": [],
   "source": [
    "xtrain_nb=dataq(X_train)\n",
    "xval_nb=dataq(X_val)\n",
    "xtest_nb=dataq(X_test)"
   ]
  },
  {
   "cell_type": "code",
   "execution_count": 90,
   "metadata": {},
   "outputs": [
    {
     "name": "stdout",
     "output_type": "stream",
     "text": [
      "Stored 'xtrain_nb' (DataFrame)\n",
      "Stored 'xval_nb' (DataFrame)\n",
      "Stored 'xtest_nb' (DataFrame)\n"
     ]
    }
   ],
   "source": [
    "%store xtrain_nb\n",
    "%store xval_nb\n",
    "%store xtest_nb"
   ]
  },
  {
   "cell_type": "code",
   "execution_count": 92,
   "metadata": {},
   "outputs": [
    {
     "data": {
      "text/html": [
       "<div>\n",
       "<style scoped>\n",
       "    .dataframe tbody tr th:only-of-type {\n",
       "        vertical-align: middle;\n",
       "    }\n",
       "\n",
       "    .dataframe tbody tr th {\n",
       "        vertical-align: top;\n",
       "    }\n",
       "\n",
       "    .dataframe thead th {\n",
       "        text-align: right;\n",
       "    }\n",
       "</style>\n",
       "<table border=\"1\" class=\"dataframe\">\n",
       "  <thead>\n",
       "    <tr style=\"text-align: right;\">\n",
       "      <th></th>\n",
       "      <th>Embarked</th>\n",
       "      <th>passenger_sex</th>\n",
       "      <th>passenger_class</th>\n",
       "      <th>Fare</th>\n",
       "      <th>Age</th>\n",
       "    </tr>\n",
       "  </thead>\n",
       "  <tbody>\n",
       "    <tr>\n",
       "      <th>454</th>\n",
       "      <td>2</td>\n",
       "      <td>1</td>\n",
       "      <td>0</td>\n",
       "      <td>0</td>\n",
       "      <td>3</td>\n",
       "    </tr>\n",
       "    <tr>\n",
       "      <th>167</th>\n",
       "      <td>2</td>\n",
       "      <td>0</td>\n",
       "      <td>0</td>\n",
       "      <td>2</td>\n",
       "      <td>1</td>\n",
       "    </tr>\n",
       "    <tr>\n",
       "      <th>657</th>\n",
       "      <td>1</td>\n",
       "      <td>0</td>\n",
       "      <td>0</td>\n",
       "      <td>1</td>\n",
       "      <td>2</td>\n",
       "    </tr>\n",
       "    <tr>\n",
       "      <th>364</th>\n",
       "      <td>1</td>\n",
       "      <td>1</td>\n",
       "      <td>0</td>\n",
       "      <td>2</td>\n",
       "      <td>1</td>\n",
       "    </tr>\n",
       "    <tr>\n",
       "      <th>99</th>\n",
       "      <td>2</td>\n",
       "      <td>1</td>\n",
       "      <td>1</td>\n",
       "      <td>2</td>\n",
       "      <td>1</td>\n",
       "    </tr>\n",
       "  </tbody>\n",
       "</table>\n",
       "</div>"
      ],
      "text/plain": [
       "     Embarked  passenger_sex  passenger_class  Fare  Age\n",
       "454         2              1                0     0    3\n",
       "167         2              0                0     2    1\n",
       "657         1              0                0     1    2\n",
       "364         1              1                0     2    1\n",
       "99          2              1                1     2    1"
      ]
     },
     "execution_count": 92,
     "metadata": {},
     "output_type": "execute_result"
    }
   ],
   "source": [
    "xtrain_nb.head() "
   ]
  },
  {
   "cell_type": "markdown",
   "metadata": {},
   "source": [
    "Ahora se construyen funciones para poder calcular las probabilidades y así construir la tabla de frecuencias. Dicho de otro modo, en esta parte es donde se \"entrena\" al modelo, utilizando la data de train para poder realizar los cálculos."
   ]
  },
  {
   "cell_type": "code",
   "execution_count": 93,
   "metadata": {},
   "outputs": [],
   "source": [
    "def embarkedp(x,y):\n",
    "    ycount = np.bincount(y.iloc[:,0])\n",
    "    no_count = ycount[0]\n",
    "    yes_count = ycount[1]\n",
    "    denominador_y = no_count + yes_count\n",
    "    pno = no_count/denominador_y\n",
    "    pyes = yes_count/denominador_y\n",
    "    \n",
    "    filtroe01 = (x['Embarked']==0)&(y['passenger_survived']==1)\n",
    "    filtroe00 = (x['Embarked']==0)&(y['passenger_survived']==0)\n",
    "    filtroe11 = (x['Embarked']==1)&(y['passenger_survived']==1)\n",
    "    filtroe10 = (x['Embarked']==1)&(y['passenger_survived']==0)\n",
    "    filtroe21 = (x['Embarked']==2)&(y['passenger_survived']==1)\n",
    "    filtroe20 = (x['Embarked']==2)&(y['passenger_survived']==0)\n",
    "\n",
    "    counte01 = np.bincount(filtroe01)[1]\n",
    "    counte00 = np.bincount(filtroe00)[1]\n",
    "    counte11 = np.bincount(filtroe11)[1]\n",
    "    counte10 = np.bincount(filtroe10)[1]\n",
    "    counte21 = np.bincount(filtroe21)[1]\n",
    "    counte20 = np.bincount(filtroe20)[1]\n",
    "    \n",
    "    ## Probabilidades embarked (likelihood)\n",
    "    pe01 = counte01/yes_count\n",
    "    pe00 = counte00/no_count\n",
    "    pe11 = counte11/yes_count\n",
    "    pe10 = counte10/no_count\n",
    "    pe21 = counte21/yes_count\n",
    "    pe20 = counte20/no_count\n",
    "    \n",
    "    pey1 = np.array([pe01,pe11,pe21])\n",
    "    pey0 = np.array([pe00,pe10,pe20])\n",
    "    \n",
    "    listape = [pey0,pey1]\n",
    "    return listape   "
   ]
  },
  {
   "cell_type": "code",
   "execution_count": 94,
   "metadata": {},
   "outputs": [],
   "source": [
    "pey0 = embarkedp(X_train,y_train)[0]\n",
    "pey1 = embarkedp(X_train,y_train)[1]"
   ]
  },
  {
   "cell_type": "code",
   "execution_count": 95,
   "metadata": {},
   "outputs": [
    {
     "name": "stdout",
     "output_type": "stream",
     "text": [
      "Stored 'pey0' (ndarray)\n",
      "Stored 'pey1' (ndarray)\n"
     ]
    }
   ],
   "source": [
    "%store pey0\n",
    "%store pey1"
   ]
  },
  {
   "cell_type": "code",
   "execution_count": 96,
   "metadata": {},
   "outputs": [],
   "source": [
    "def passengersexp(x,y):\n",
    "    ycount = np.bincount(y.iloc[:,0])\n",
    "    no_count = ycount[0]\n",
    "    yes_count = ycount[1]\n",
    "    denominador_y = no_count + yes_count\n",
    "    pno = no_count/denominador_y\n",
    "    pyes = yes_count/denominador_y\n",
    "    \n",
    "    filtrops01 = (x['passenger_sex']==0)&(y['passenger_survived']==1)\n",
    "    filtrops00 = (x['passenger_sex']==0)&(y['passenger_survived']==0)\n",
    "    filtrops11 = (x['passenger_sex']==1)&(y['passenger_survived']==1)\n",
    "    filtrops10 = (x['passenger_sex']==1)&(y['passenger_survived']==0)\n",
    "\n",
    "    countps01 = np.bincount(filtrops01)[1]\n",
    "    countps00 = np.bincount(filtrops00)[1]\n",
    "    countps11 = np.bincount(filtrops11)[1]\n",
    "    countps10 = np.bincount(filtrops10)[1]\n",
    "    \n",
    "    ## Probabilidades passenger sex\n",
    "    pps01 = countps01/yes_count\n",
    "    pps00 = countps00/no_count\n",
    "    pps11 = countps11/yes_count\n",
    "    pps10 = countps10/no_count\n",
    "    \n",
    "    pps0 = np.array([pps00,pps10])\n",
    "    pps1 = np.array([pps01,pps11])\n",
    "    \n",
    "    listaps = [pps0,pps1]\n",
    "    return listaps"
   ]
  },
  {
   "cell_type": "code",
   "execution_count": 97,
   "metadata": {},
   "outputs": [],
   "source": [
    "pps0 = passengersexp(X_train,y_train)[0]\n",
    "pps1 = passengersexp(X_train,y_train)[1]"
   ]
  },
  {
   "cell_type": "code",
   "execution_count": 98,
   "metadata": {},
   "outputs": [
    {
     "name": "stdout",
     "output_type": "stream",
     "text": [
      "Stored 'pps0' (ndarray)\n",
      "Stored 'pps1' (ndarray)\n"
     ]
    }
   ],
   "source": [
    "%store pps0\n",
    "%store pps1"
   ]
  },
  {
   "cell_type": "code",
   "execution_count": 99,
   "metadata": {},
   "outputs": [],
   "source": [
    "def passengerclassp(x,y):\n",
    "    ycount = np.bincount(y.iloc[:,0])\n",
    "    no_count = ycount[0]\n",
    "    yes_count = ycount[1]\n",
    "    denominador_y = no_count + yes_count\n",
    "    pno = no_count/denominador_y\n",
    "    pyes = yes_count/denominador_y\n",
    "    \n",
    "    filtropc01 = (x['passenger_class']==0)&(y['passenger_survived']==1)\n",
    "    filtropc00 = (x['passenger_class']==0)&(y['passenger_survived']==0)\n",
    "    filtropc11 = (x['passenger_class']==1)&(y['passenger_survived']==1)\n",
    "    filtropc10 = (x['passenger_class']==1)&(y['passenger_survived']==0)\n",
    "    filtropc21 = (x['passenger_class']==2)&(y['passenger_survived']==1)\n",
    "    filtropc20 = (x['passenger_class']==2)&(y['passenger_survived']==0)\n",
    "\n",
    "    countpc01 = np.bincount(filtropc01)[1]\n",
    "    countpc00 = np.bincount(filtropc00)[1]\n",
    "    countpc11 = np.bincount(filtropc11)[1]\n",
    "    countpc10 = np.bincount(filtropc10)[1]\n",
    "    countpc21 = np.bincount(filtropc21)[1]\n",
    "    countpc20 = np.bincount(filtropc20)[1]\n",
    "    \n",
    "    ppc01 = countpc01/yes_count\n",
    "    ppc00 = countpc00/no_count\n",
    "    ppc11 = countpc11/yes_count\n",
    "    ppc10 = countpc10/no_count\n",
    "    ppc21 = countpc21/yes_count\n",
    "    ppc20 = countpc20/no_count\n",
    "    \n",
    "    ppc0 = np.array([ppc00,ppc10,ppc20])\n",
    "    ppc1 = np.array([ppc01,ppc11,ppc21])\n",
    "    \n",
    "    listapc = [ppc0,ppc1]\n",
    "    return listapc"
   ]
  },
  {
   "cell_type": "code",
   "execution_count": 100,
   "metadata": {},
   "outputs": [],
   "source": [
    "ppc0 = passengerclassp(X_train,y_train)[0]\n",
    "ppc1 = passengerclassp(X_train,y_train)[1]"
   ]
  },
  {
   "cell_type": "code",
   "execution_count": 101,
   "metadata": {},
   "outputs": [
    {
     "name": "stdout",
     "output_type": "stream",
     "text": [
      "Stored 'ppc0' (ndarray)\n",
      "Stored 'ppc1' (ndarray)\n"
     ]
    }
   ],
   "source": [
    "%store ppc0\n",
    "%store ppc1"
   ]
  },
  {
   "cell_type": "code",
   "execution_count": 102,
   "metadata": {},
   "outputs": [],
   "source": [
    "def farep(x,y):\n",
    "    ycount = np.bincount(y.iloc[:,0])\n",
    "    no_count = ycount[0]\n",
    "    yes_count = ycount[1]\n",
    "    denominador_y = no_count + yes_count\n",
    "    pno = no_count/denominador_y\n",
    "    pyes = yes_count/denominador_y\n",
    "    \n",
    "    filtrof01 = (x['Fare']==0)&(y['passenger_survived']==1)\n",
    "    filtrof00 = (x['Fare']==0)&(y['passenger_survived']==0)\n",
    "    filtrof11 = (x['Fare']==1)&(y['passenger_survived']==1)\n",
    "    filtrof10 = (x['Fare']==1)&(y['passenger_survived']==0)\n",
    "    filtrof21 = (x['Fare']==2)&(y['passenger_survived']==1)\n",
    "    filtrof20 = (x['Fare']==2)&(y['passenger_survived']==0)\n",
    "    filtrof31 = (x['Fare']==3)&(y['passenger_survived']==1)\n",
    "    filtrof30 = (x['Fare']==3)&(y['passenger_survived']==0)\n",
    "\n",
    "    countf01 = np.bincount(filtrof01)[1]\n",
    "    countf00 = np.bincount(filtrof00)[1]\n",
    "    countf11 = np.bincount(filtrof11)[1]\n",
    "    countf10 = np.bincount(filtrof10)[1]\n",
    "    countf21 = np.bincount(filtrof21)[1]\n",
    "    countf20 = np.bincount(filtrof20)[1]\n",
    "    countf31 = np.bincount(filtrof31)[1]\n",
    "    countf30 = np.bincount(filtrof30)[1]\n",
    "\n",
    "    #Probablilidades para Fare\n",
    "    pf01 = countf01/yes_count\n",
    "    pf00 = countf00/no_count\n",
    "    pf11 = countf11/yes_count\n",
    "    pf10 = countf10/no_count\n",
    "    pf21 = countf21/yes_count\n",
    "    pf20 = countf20/no_count\n",
    "    pf31 = countf31/yes_count\n",
    "    pf30 = countf30/no_count\n",
    "    \n",
    "    pf0 = np.array([pf00,pf10,pf20,pf30])\n",
    "    pf1 = np.array([pf01,pf11,pf21,pf31])\n",
    "    \n",
    "    listapf = [pf0,pf1]\n",
    "    return listapf   "
   ]
  },
  {
   "cell_type": "code",
   "execution_count": 103,
   "metadata": {},
   "outputs": [],
   "source": [
    "pf0 = farep(xtrain_nb,y_train)[0]\n",
    "pf1 = farep(xtrain_nb,y_train)[1]"
   ]
  },
  {
   "cell_type": "code",
   "execution_count": 106,
   "metadata": {},
   "outputs": [
    {
     "name": "stdout",
     "output_type": "stream",
     "text": [
      "Stored 'pf0' (ndarray)\n",
      "Stored 'pf1' (ndarray)\n"
     ]
    }
   ],
   "source": [
    "%store pf0\n",
    "%store pf1"
   ]
  },
  {
   "cell_type": "code",
   "execution_count": 104,
   "metadata": {},
   "outputs": [],
   "source": [
    "def agep(x,y):\n",
    "    ycount = np.bincount(y.iloc[:,0])\n",
    "    no_count = ycount[0]\n",
    "    yes_count = ycount[1]\n",
    "    denominador_y = no_count + yes_count\n",
    "    pno = no_count/denominador_y\n",
    "    pyes = yes_count/denominador_y\n",
    "    \n",
    "    filtroa01 = (x['Age']==0)&(y['passenger_survived']==1)\n",
    "    filtroa00 = (x['Age']==0)&(y['passenger_survived']==0)\n",
    "    filtroa11 = (x['Age']==1)&(y['passenger_survived']==1)\n",
    "    filtroa10 = (x['Age']==1)&(y['passenger_survived']==0)\n",
    "    filtroa21 = (x['Age']==2)&(y['passenger_survived']==1)\n",
    "    filtroa20 = (x['Age']==2)&(y['passenger_survived']==0)\n",
    "    filtroa31 = (x['Age']==3)&(y['passenger_survived']==1)\n",
    "    filtroa30 = (x['Age']==3)&(y['passenger_survived']==0)\n",
    "\n",
    "    counta01 = np.bincount(filtroa01)[1]\n",
    "    counta00 = np.bincount(filtroa00)[1]\n",
    "    counta11 = np.bincount(filtroa11)[1]\n",
    "    counta10 = np.bincount(filtroa10)[1]\n",
    "    counta21 = np.bincount(filtroa21)[1]\n",
    "    counta20 = np.bincount(filtroa20)[1]\n",
    "    counta31 = np.bincount(filtroa31)[1]\n",
    "    counta30 = np.bincount(filtroa30)[1]\n",
    "\n",
    "    #Probablilidades para Age\n",
    "    pa01 = counta01/yes_count\n",
    "    pa00 = counta00/no_count\n",
    "    pa11 = counta11/yes_count\n",
    "    pa10 = counta10/no_count\n",
    "    pa21 = counta21/yes_count\n",
    "    pa20 = counta20/no_count\n",
    "    pa31 = counta31/yes_count\n",
    "    pa30 = counta30/no_count\n",
    "    \n",
    "    pa0 = np.array([pa00,pa10,pa20,pa30])\n",
    "    pa1 = np.array([pa01,pa11,pa21,pa31])\n",
    "    \n",
    "    listapa = [pa0,pa1]\n",
    "    return listapa   "
   ]
  },
  {
   "cell_type": "code",
   "execution_count": 107,
   "metadata": {},
   "outputs": [],
   "source": [
    "pa0 = agep(xtrain_nb,y_train)[0]\n",
    "pa1 = agep(xtrain_nb,y_train)[1]"
   ]
  },
  {
   "cell_type": "code",
   "execution_count": 108,
   "metadata": {},
   "outputs": [
    {
     "name": "stdout",
     "output_type": "stream",
     "text": [
      "Stored 'pa0' (ndarray)\n",
      "Stored 'pa1' (ndarray)\n"
     ]
    }
   ],
   "source": [
    "%store pa0\n",
    "%store pa1"
   ]
  },
  {
   "cell_type": "code",
   "execution_count": 109,
   "metadata": {},
   "outputs": [],
   "source": [
    "def yp(y):\n",
    "    ycount = np.bincount(y.iloc[:,0])\n",
    "    no_count = ycount[0]\n",
    "    yes_count = ycount[1]\n",
    "    denominador_y = no_count + yes_count\n",
    "    pno = no_count/denominador_y\n",
    "    pyes = yes_count/denominador_y\n",
    "    \n",
    "    listapy = [pno,pyes]\n",
    "    return listapy"
   ]
  },
  {
   "cell_type": "code",
   "execution_count": 123,
   "metadata": {},
   "outputs": [],
   "source": [
    "pno_train=yp(y_train)[0]\n",
    "pyes_train=yp(y_train)[1]"
   ]
  },
  {
   "cell_type": "code",
   "execution_count": 124,
   "metadata": {},
   "outputs": [
    {
     "name": "stdout",
     "output_type": "stream",
     "text": [
      "Stored 'pno_train' (float64)\n",
      "Stored 'pyes_train' (float64)\n"
     ]
    }
   ],
   "source": [
    "%store pno_train\n",
    "%store pyes_train"
   ]
  },
  {
   "cell_type": "code",
   "execution_count": 112,
   "metadata": {},
   "outputs": [],
   "source": [
    "def replaceyes(x):    #la funcion crea un df con las probabilidades de cada x dado y=1; toma como parametro un dataset\n",
    "    dict1={'Embarked':{0: pey1[0],1:pey1[1],2:pey1[2]}}\n",
    "    dict2={'passenger_sex':{0: pps1[0],1:pps1[1]}}\n",
    "    dict3={'passenger_class':{0: ppc1[0],1:ppc1[1],2:ppc1[2]}}\n",
    "    dict4={'Fare':{0: pf1[0],1:pf1[1],2:pf1[2],3:pf1[3]}}\n",
    "    dict5={'Age':{0: pa1[0],1:pa1[1],2:pa1[2],3:pa1[3]}}\n",
    "    rep1=x.replace(dict1)['Embarked']\n",
    "    rep2=x.replace(dict2)['passenger_sex']\n",
    "    rep3=x.replace(dict3)['passenger_class']\n",
    "    rep4=x.replace(dict4)['Fare']\n",
    "    rep5=x.replace(dict5)['Age']\n",
    "    lista=[rep1,rep2,rep3,rep4,rep5]\n",
    "    df=pd.concat(lista,axis=1)\n",
    "    return df"
   ]
  },
  {
   "cell_type": "code",
   "execution_count": 113,
   "metadata": {},
   "outputs": [],
   "source": [
    "def replaceno(x):    #la funcion crea un df con las probabilidades de cada x dado y=0; toma como parametro un dataset\n",
    "    dict1={'Embarked':{0: pey0[0],1:pey0[1],2:pey0[2]}}\n",
    "    dict2={'passenger_sex':{0: pps0[0],1:pps0[1]}}\n",
    "    dict3={'passenger_class':{0: ppc0[0],1:ppc0[1],2:ppc0[2]}}\n",
    "    dict4={'Fare':{0: pf0[0],1:pf0[1],2:pf0[2],3:pf0[3]}}\n",
    "    dict5={'Age':{0: pa0[0],1:pa0[1],2:pa0[2],3:pa0[3]}}\n",
    "    rep1=x.replace(dict1)['Embarked']\n",
    "    rep2=x.replace(dict2)['passenger_sex']\n",
    "    rep3=x.replace(dict3)['passenger_class']\n",
    "    rep4=x.replace(dict4)['Fare']\n",
    "    rep5=x.replace(dict5)['Age']\n",
    "    lista=[rep1,rep2,rep3,rep4,rep5]\n",
    "    df=pd.concat(lista,axis=1)\n",
    "    return df"
   ]
  },
  {
   "cell_type": "code",
   "execution_count": 292,
   "metadata": {},
   "outputs": [],
   "source": [
    "def naivebayes(x,Y):\n",
    "    numeradoryes=replaceyes(x)['Embarked']*replaceyes(x)['passenger_sex']*replaceyes(x)['passenger_class']*replaceyes(x)['Fare']*replaceyes(x)['Age']*pyes_train\n",
    "    numeradorno=replaceno(x)['Embarked']*replaceno(x)['passenger_sex']*replaceno(x)['passenger_class']*replaceno(x)['Fare']*replaceno(x)['Age']*pno_train\n",
    "    denominador=numeradoryes+numeradorno\n",
    "    pyesx=numeradoryes/denominador\n",
    "    pnox=numeradorno/denominador\n",
    "    x['pyes']=pyesx\n",
    "    x['pno']=pnox\n",
    "    serieslist=[x['pno'],x['pyes']]\n",
    "    df_probs=pd.concat(serieslist,axis=1)\n",
    "    prob_hat=df_probs.max(axis=1)\n",
    "    y_est=df_probs.idxmax(axis=1)\n",
    "    yhat=y_est.replace({'pno': 0,'pyes': 1})\n",
    "    accuracy = accuracy_score(Y,yhat)\n",
    "    error = 1 - accuracy\n",
    "    f1 = f1_score(Y,yhat)\n",
    "    precision = precision_score(Y,yhat)\n",
    "    recall = recall_score(Y,yhat)\n",
    "    metricas_array = np.array([accuracy,error,precision,recall,f1])\n",
    "    df_metricas=pd.DataFrame(metricas_array,index=['Accuracy','Error','Precision','Recall','F1'])\n",
    "    lista=[df_metricas,yhat.values,prob_hat]\n",
    "    return lista"
   ]
  },
  {
   "cell_type": "code",
   "execution_count": 128,
   "metadata": {},
   "outputs": [
    {
     "data": {
      "text/html": [
       "<div>\n",
       "<style scoped>\n",
       "    .dataframe tbody tr th:only-of-type {\n",
       "        vertical-align: middle;\n",
       "    }\n",
       "\n",
       "    .dataframe tbody tr th {\n",
       "        vertical-align: top;\n",
       "    }\n",
       "\n",
       "    .dataframe thead th {\n",
       "        text-align: right;\n",
       "    }\n",
       "</style>\n",
       "<table border=\"1\" class=\"dataframe\">\n",
       "  <thead>\n",
       "    <tr style=\"text-align: right;\">\n",
       "      <th></th>\n",
       "      <th>0</th>\n",
       "    </tr>\n",
       "  </thead>\n",
       "  <tbody>\n",
       "    <tr>\n",
       "      <th>Accuracy</th>\n",
       "      <td>0.762742</td>\n",
       "    </tr>\n",
       "    <tr>\n",
       "      <th>Error</th>\n",
       "      <td>0.237258</td>\n",
       "    </tr>\n",
       "    <tr>\n",
       "      <th>Precision</th>\n",
       "      <td>0.688073</td>\n",
       "    </tr>\n",
       "    <tr>\n",
       "      <th>Recall</th>\n",
       "      <td>0.691244</td>\n",
       "    </tr>\n",
       "    <tr>\n",
       "      <th>F1</th>\n",
       "      <td>0.689655</td>\n",
       "    </tr>\n",
       "  </tbody>\n",
       "</table>\n",
       "</div>"
      ],
      "text/plain": [
       "                  0\n",
       "Accuracy   0.762742\n",
       "Error      0.237258\n",
       "Precision  0.688073\n",
       "Recall     0.691244\n",
       "F1         0.689655"
      ]
     },
     "execution_count": 128,
     "metadata": {},
     "output_type": "execute_result"
    }
   ],
   "source": [
    "nbtrain = naivebayes(xtrain_nb,y_train)\n",
    "nbtrain[0]"
   ]
  },
  {
   "cell_type": "code",
   "execution_count": 129,
   "metadata": {},
   "outputs": [
    {
     "data": {
      "text/html": [
       "<div>\n",
       "<style scoped>\n",
       "    .dataframe tbody tr th:only-of-type {\n",
       "        vertical-align: middle;\n",
       "    }\n",
       "\n",
       "    .dataframe tbody tr th {\n",
       "        vertical-align: top;\n",
       "    }\n",
       "\n",
       "    .dataframe thead th {\n",
       "        text-align: right;\n",
       "    }\n",
       "</style>\n",
       "<table border=\"1\" class=\"dataframe\">\n",
       "  <thead>\n",
       "    <tr style=\"text-align: right;\">\n",
       "      <th></th>\n",
       "      <th>0</th>\n",
       "    </tr>\n",
       "  </thead>\n",
       "  <tbody>\n",
       "    <tr>\n",
       "      <th>Accuracy</th>\n",
       "      <td>0.748252</td>\n",
       "    </tr>\n",
       "    <tr>\n",
       "      <th>Error</th>\n",
       "      <td>0.251748</td>\n",
       "    </tr>\n",
       "    <tr>\n",
       "      <th>Precision</th>\n",
       "      <td>0.642857</td>\n",
       "    </tr>\n",
       "    <tr>\n",
       "      <th>Recall</th>\n",
       "      <td>0.692308</td>\n",
       "    </tr>\n",
       "    <tr>\n",
       "      <th>F1</th>\n",
       "      <td>0.666667</td>\n",
       "    </tr>\n",
       "  </tbody>\n",
       "</table>\n",
       "</div>"
      ],
      "text/plain": [
       "                  0\n",
       "Accuracy   0.748252\n",
       "Error      0.251748\n",
       "Precision  0.642857\n",
       "Recall     0.692308\n",
       "F1         0.666667"
      ]
     },
     "execution_count": 129,
     "metadata": {},
     "output_type": "execute_result"
    }
   ],
   "source": [
    "nbval = naivebayes(xval_nb,y_val)\n",
    "nbval[0]"
   ]
  },
  {
   "cell_type": "code",
   "execution_count": 130,
   "metadata": {},
   "outputs": [],
   "source": [
    "nb = pd.concat([nbtrain[0],nbval[0]],axis=1).T\n",
    "nb['Cadena de configuración'] = 'Naive Bayes train','Naive Bayes validation'\n",
    "nb['Modelo'] = 'Naive Bayes','Naive Bayes'\n",
    "nb = nb[['Modelo','Cadena de configuración','Accuracy','Error','Precision','Recall','F1']]"
   ]
  },
  {
   "cell_type": "code",
   "execution_count": 131,
   "metadata": {},
   "outputs": [
    {
     "data": {
      "text/html": [
       "<div>\n",
       "<style scoped>\n",
       "    .dataframe tbody tr th:only-of-type {\n",
       "        vertical-align: middle;\n",
       "    }\n",
       "\n",
       "    .dataframe tbody tr th {\n",
       "        vertical-align: top;\n",
       "    }\n",
       "\n",
       "    .dataframe thead th {\n",
       "        text-align: right;\n",
       "    }\n",
       "</style>\n",
       "<table border=\"1\" class=\"dataframe\">\n",
       "  <thead>\n",
       "    <tr style=\"text-align: right;\">\n",
       "      <th></th>\n",
       "      <th>Modelo</th>\n",
       "      <th>Cadena de configuración</th>\n",
       "      <th>Accuracy</th>\n",
       "      <th>Error</th>\n",
       "      <th>Precision</th>\n",
       "      <th>Recall</th>\n",
       "      <th>F1</th>\n",
       "    </tr>\n",
       "  </thead>\n",
       "  <tbody>\n",
       "    <tr>\n",
       "      <th>0</th>\n",
       "      <td>Naive Bayes</td>\n",
       "      <td>Naive Bayes train</td>\n",
       "      <td>0.762742</td>\n",
       "      <td>0.237258</td>\n",
       "      <td>0.688073</td>\n",
       "      <td>0.691244</td>\n",
       "      <td>0.689655</td>\n",
       "    </tr>\n",
       "    <tr>\n",
       "      <th>0</th>\n",
       "      <td>Naive Bayes</td>\n",
       "      <td>Naive Bayes validation</td>\n",
       "      <td>0.748252</td>\n",
       "      <td>0.251748</td>\n",
       "      <td>0.642857</td>\n",
       "      <td>0.692308</td>\n",
       "      <td>0.666667</td>\n",
       "    </tr>\n",
       "  </tbody>\n",
       "</table>\n",
       "</div>"
      ],
      "text/plain": [
       "        Modelo Cadena de configuración  Accuracy     Error  Precision  \\\n",
       "0  Naive Bayes       Naive Bayes train  0.762742  0.237258   0.688073   \n",
       "0  Naive Bayes  Naive Bayes validation  0.748252  0.251748   0.642857   \n",
       "\n",
       "     Recall        F1  \n",
       "0  0.691244  0.689655  \n",
       "0  0.692308  0.666667  "
      ]
     },
     "execution_count": 131,
     "metadata": {},
     "output_type": "execute_result"
    }
   ],
   "source": [
    "nb"
   ]
  },
  {
   "cell_type": "markdown",
   "metadata": {},
   "source": [
    "Referencia utilizada para realizar el modelo: https://www.geeksforgeeks.org/naive-bayes-classifiers/. La idea fue implementar el algoritmo paso a paso utilizando las funciones que ofrece Pandas para manipular dataframes. "
   ]
  },
  {
   "cell_type": "markdown",
   "metadata": {},
   "source": [
    "## 4. Regresión Logística"
   ]
  },
  {
   "cell_type": "code",
   "execution_count": 142,
   "metadata": {},
   "outputs": [
    {
     "name": "stdout",
     "output_type": "stream",
     "text": [
      "(569, 5)\n",
      "(143, 5)\n",
      "(179, 5)\n",
      "(569, 1)\n",
      "(143, 1)\n",
      "(179, 1)\n"
     ]
    }
   ],
   "source": [
    "print(X_train.shape)\n",
    "print(X_val.shape)\n",
    "print(X_test.shape)\n",
    "print(y_train.shape)\n",
    "print(y_val.shape)\n",
    "print(y_test.shape)"
   ]
  },
  {
   "cell_type": "code",
   "execution_count": 143,
   "metadata": {},
   "outputs": [],
   "source": [
    "def yrl(y): ##Esta se utiliza para convertir los pandas series a arrays para luego poder obtener las metricas\n",
    "    ydata = y.values\n",
    "    return ydata"
   ]
  },
  {
   "cell_type": "code",
   "execution_count": 147,
   "metadata": {},
   "outputs": [],
   "source": [
    "ytrainrl=yrl(y_train)\n",
    "yvalrl=yrl(y_val)\n",
    "ytestrl=yrl(y_test)"
   ]
  },
  {
   "cell_type": "code",
   "execution_count": 148,
   "metadata": {},
   "outputs": [
    {
     "name": "stdout",
     "output_type": "stream",
     "text": [
      "Stored 'ytrainrl' (ndarray)\n",
      "Stored 'yvalrl' (ndarray)\n",
      "Stored 'ytestrl' (ndarray)\n"
     ]
    }
   ],
   "source": [
    "%store ytrainrl\n",
    "%store yvalrl\n",
    "%store ytestrl"
   ]
  },
  {
   "cell_type": "markdown",
   "metadata": {},
   "source": [
    "A diferencia de los 3 modelos anteriores (2 implementados en sklearn y otro en Pandas), la regresión logística se trabajará en TensorFlow. La función del modelo recibe como parámetros la data x, y, el valor de learning rate (lr), el factor de regularizaión (fr), los epochs y el batch. "
   ]
  },
  {
   "cell_type": "code",
   "execution_count": 146,
   "metadata": {},
   "outputs": [],
   "source": [
    "def regresion_logistica(x,y,lr,fr,epoch,batch):\n",
    "    session = tf.Session()\n",
    "    X = tf.placeholder(shape=[None, 5], dtype = tf.float32)\n",
    "    Y = tf.placeholder(shape = [None, 1], dtype=tf.float32)\n",
    "    W = tf.Variable(tf.random_normal(shape=[5,1]))\n",
    "    b = tf.Variable(tf.random_normal(shape=[1,1]))\n",
    "    y_hat = tf.add(tf.matmul(X, W), b)\n",
    "    cost = tf.reduce_mean(tf.nn.sigmoid_cross_entropy_with_logits(logits=y_hat, labels = Y)) + fr*tf.nn.l2_loss(W)\n",
    "    init = tf.global_variables_initializer()\n",
    "    session.run(init)\n",
    "    optimizador = tf.train.GradientDescentOptimizer(learning_rate=lr)\n",
    "    opt_minimize = optimizador.minimize(cost)\n",
    "    salida_prob = tf.sigmoid(y_hat)\n",
    "    clasificacion_lr = tf.round(tf.sigmoid(y_hat))\n",
    "    clasificacion_final = tf.cast(tf.equal(clasificacion_lr, Y), tf.float32)\n",
    "    accuracy = tf.reduce_mean(clasificacion_final)\n",
    "    epochs = epoch\n",
    "    batch_size = batch\n",
    "    for epoch in range(epochs):\n",
    "        batches = int(X_train.shape[0] / batch_size)\n",
    "        for i in range(batches):\n",
    "            session.run(opt_minimize, feed_dict={X: X_train, Y: y_train})\n",
    "            parametrosW = session.run(W,feed_dict={X: X_train, Y: y_train})\n",
    "            parametrosb = session.run(b,feed_dict={X: X_train, Y: y_train}) #Hasta acá se entrena\n",
    "            prob_output = session.run(salida_prob,feed_dict={X: x, Y: y})\n",
    "            cc = session.run(clasificacion_final,feed_dict={X: x, Y: y})\n",
    "            acc = session.run(accuracy, feed_dict={X: x, Y: y})\n",
    "            errorlr = 1 - acc\n",
    "            metricas_arraylr = np.array([acc,errorlr]) #accuracy en index 0; error en index 1.\n",
    "            listlr=[metricas_arraylr,cc,prob_output,parametrosW,parametrosb]\n",
    "            \n",
    "    return listlr    "
   ]
  },
  {
   "cell_type": "code",
   "execution_count": 193,
   "metadata": {},
   "outputs": [],
   "source": [
    "rltrainpred1 = regresion_logistica(X_train,ytrainrl,0.01,0.01,200,30)[1]\n",
    "rltrainW = regresion_logistica(X_train,ytrainrl,0.01,0.01,200,30)[3]\n",
    "rltrainb = regresion_logistica(X_train,ytrainrl,0.01,0.01,200,30)[4]\n",
    "rltrainmetric = regresion_logistica(X_train,ytrainrl,0.01,0.01,200,30)[0]"
   ]
  },
  {
   "cell_type": "code",
   "execution_count": 195,
   "metadata": {},
   "outputs": [],
   "source": [
    "rltrainpred2 = regresion_logistica(X_train,ytrainrl,0.001,10,200,30)[1]\n",
    "rltrainW2 = regresion_logistica(X_train,ytrainrl,0.001,10,200,30)[3]\n",
    "rltrainb2 = regresion_logistica(X_train,ytrainrl,0.001,10,200,30)[4]\n",
    "rltrainmetric2 = regresion_logistica(X_train,ytrainrl,0.001,10,200,30)[0]"
   ]
  },
  {
   "cell_type": "code",
   "execution_count": 197,
   "metadata": {},
   "outputs": [],
   "source": [
    "rltrainpred3 = regresion_logistica(X_train,ytrainrl,0.0001,5,200,30)[1]\n",
    "rltrainW3 = regresion_logistica(X_train,ytrainrl,0.0001,5,200,30)[3]\n",
    "rltrainb3 = regresion_logistica(X_train,ytrainrl,0.0001,5,200,30)[4]\n",
    "rltrainmetric3 = regresion_logistica(X_train,ytrainrl,0.0001,5,200,30)[0]"
   ]
  },
  {
   "cell_type": "code",
   "execution_count": 200,
   "metadata": {},
   "outputs": [],
   "source": [
    "rltrainpred4 = regresion_logistica(X_train,ytrainrl,0.0001,0.01,200,30)[1]\n",
    "rltrainW4 = regresion_logistica(X_train,ytrainrl,0.0001,0.01,200,30)[3]\n",
    "rltrainb4 = regresion_logistica(X_train,ytrainrl,0.0001,0.01,200,30)[4]\n",
    "rltrainmetric4 = regresion_logistica(X_train,ytrainrl,0.0001,0.01,200,30)[0]"
   ]
  },
  {
   "cell_type": "code",
   "execution_count": 224,
   "metadata": {},
   "outputs": [
    {
     "name": "stdout",
     "output_type": "stream",
     "text": [
      "Stored 'rltrainW4' (ndarray)\n",
      "Stored 'rltrainb4' (ndarray)\n"
     ]
    }
   ],
   "source": [
    "%store rltrainW4\n",
    "%store rltrainb4"
   ]
  },
  {
   "cell_type": "code",
   "execution_count": 202,
   "metadata": {},
   "outputs": [],
   "source": [
    "rlvalpred1 = regresion_logistica(X_val,yvalrl,0.0001,0.01,200,30)[1]"
   ]
  },
  {
   "cell_type": "code",
   "execution_count": 157,
   "metadata": {},
   "outputs": [],
   "source": [
    "#funcion similar a los modelos anteriores: regresa df con metricas, yhats y la salida probabilistica (para este caso)\n",
    "def rlfinal(y,yhat):\n",
    "    prediccion = yhat\n",
    "    accuracy = accuracy_score(y,prediccion.astype(int))  #las y que se ingresan son las obtenidas en la funcion\n",
    "    error = 1 - accuracy\n",
    "    precision = precision_score(y,prediccion.astype(int))\n",
    "    recall = recall_score(y,prediccion.astype(int))\n",
    "    f1 = f1_score(y,prediccion.astype(int))\n",
    "    metricas_rl = np.array([accuracy,error,precision,recall, f1])\n",
    "    df_metricasrl=pd.DataFrame(metricas_rl,index=['Accuracy','Error','Precision','Recall','F1'])\n",
    "    listarl=[df_metricasrl,prediccion.astype(int).T]\n",
    "    return listarl"
   ]
  },
  {
   "cell_type": "code",
   "execution_count": 194,
   "metadata": {},
   "outputs": [
    {
     "data": {
      "text/html": [
       "<div>\n",
       "<style scoped>\n",
       "    .dataframe tbody tr th:only-of-type {\n",
       "        vertical-align: middle;\n",
       "    }\n",
       "\n",
       "    .dataframe tbody tr th {\n",
       "        vertical-align: top;\n",
       "    }\n",
       "\n",
       "    .dataframe thead th {\n",
       "        text-align: right;\n",
       "    }\n",
       "</style>\n",
       "<table border=\"1\" class=\"dataframe\">\n",
       "  <thead>\n",
       "    <tr style=\"text-align: right;\">\n",
       "      <th></th>\n",
       "      <th>0</th>\n",
       "    </tr>\n",
       "  </thead>\n",
       "  <tbody>\n",
       "    <tr>\n",
       "      <th>Accuracy</th>\n",
       "      <td>0.291740</td>\n",
       "    </tr>\n",
       "    <tr>\n",
       "      <th>Error</th>\n",
       "      <td>0.708260</td>\n",
       "    </tr>\n",
       "    <tr>\n",
       "      <th>Precision</th>\n",
       "      <td>0.293333</td>\n",
       "    </tr>\n",
       "    <tr>\n",
       "      <th>Recall</th>\n",
       "      <td>0.608295</td>\n",
       "    </tr>\n",
       "    <tr>\n",
       "      <th>F1</th>\n",
       "      <td>0.395802</td>\n",
       "    </tr>\n",
       "  </tbody>\n",
       "</table>\n",
       "</div>"
      ],
      "text/plain": [
       "                  0\n",
       "Accuracy   0.291740\n",
       "Error      0.708260\n",
       "Precision  0.293333\n",
       "Recall     0.608295\n",
       "F1         0.395802"
      ]
     },
     "execution_count": 194,
     "metadata": {},
     "output_type": "execute_result"
    }
   ],
   "source": [
    "rltrain1 = rlfinal(ytrainrl,rltrainpred1)\n",
    "rltrain1[0]"
   ]
  },
  {
   "cell_type": "code",
   "execution_count": 196,
   "metadata": {},
   "outputs": [
    {
     "data": {
      "text/html": [
       "<div>\n",
       "<style scoped>\n",
       "    .dataframe tbody tr th:only-of-type {\n",
       "        vertical-align: middle;\n",
       "    }\n",
       "\n",
       "    .dataframe tbody tr th {\n",
       "        vertical-align: top;\n",
       "    }\n",
       "\n",
       "    .dataframe thead th {\n",
       "        text-align: right;\n",
       "    }\n",
       "</style>\n",
       "<table border=\"1\" class=\"dataframe\">\n",
       "  <thead>\n",
       "    <tr style=\"text-align: right;\">\n",
       "      <th></th>\n",
       "      <th>0</th>\n",
       "    </tr>\n",
       "  </thead>\n",
       "  <tbody>\n",
       "    <tr>\n",
       "      <th>Accuracy</th>\n",
       "      <td>0.0</td>\n",
       "    </tr>\n",
       "    <tr>\n",
       "      <th>Error</th>\n",
       "      <td>1.0</td>\n",
       "    </tr>\n",
       "    <tr>\n",
       "      <th>Precision</th>\n",
       "      <td>0.0</td>\n",
       "    </tr>\n",
       "    <tr>\n",
       "      <th>Recall</th>\n",
       "      <td>0.0</td>\n",
       "    </tr>\n",
       "    <tr>\n",
       "      <th>F1</th>\n",
       "      <td>0.0</td>\n",
       "    </tr>\n",
       "  </tbody>\n",
       "</table>\n",
       "</div>"
      ],
      "text/plain": [
       "             0\n",
       "Accuracy   0.0\n",
       "Error      1.0\n",
       "Precision  0.0\n",
       "Recall     0.0\n",
       "F1         0.0"
      ]
     },
     "execution_count": 196,
     "metadata": {},
     "output_type": "execute_result"
    }
   ],
   "source": [
    "rltrain2 = rlfinal(ytrainrl,rltrainpred2)\n",
    "rltrain2[0]"
   ]
  },
  {
   "cell_type": "code",
   "execution_count": 199,
   "metadata": {},
   "outputs": [
    {
     "data": {
      "text/html": [
       "<div>\n",
       "<style scoped>\n",
       "    .dataframe tbody tr th:only-of-type {\n",
       "        vertical-align: middle;\n",
       "    }\n",
       "\n",
       "    .dataframe tbody tr th {\n",
       "        vertical-align: top;\n",
       "    }\n",
       "\n",
       "    .dataframe thead th {\n",
       "        text-align: right;\n",
       "    }\n",
       "</style>\n",
       "<table border=\"1\" class=\"dataframe\">\n",
       "  <thead>\n",
       "    <tr style=\"text-align: right;\">\n",
       "      <th></th>\n",
       "      <th>0</th>\n",
       "    </tr>\n",
       "  </thead>\n",
       "  <tbody>\n",
       "    <tr>\n",
       "      <th>Accuracy</th>\n",
       "      <td>0.0</td>\n",
       "    </tr>\n",
       "    <tr>\n",
       "      <th>Error</th>\n",
       "      <td>1.0</td>\n",
       "    </tr>\n",
       "    <tr>\n",
       "      <th>Precision</th>\n",
       "      <td>0.0</td>\n",
       "    </tr>\n",
       "    <tr>\n",
       "      <th>Recall</th>\n",
       "      <td>0.0</td>\n",
       "    </tr>\n",
       "    <tr>\n",
       "      <th>F1</th>\n",
       "      <td>0.0</td>\n",
       "    </tr>\n",
       "  </tbody>\n",
       "</table>\n",
       "</div>"
      ],
      "text/plain": [
       "             0\n",
       "Accuracy   0.0\n",
       "Error      1.0\n",
       "Precision  0.0\n",
       "Recall     0.0\n",
       "F1         0.0"
      ]
     },
     "execution_count": 199,
     "metadata": {},
     "output_type": "execute_result"
    }
   ],
   "source": [
    "rltrain3 = rlfinal(ytrainrl,rltrainpred3)\n",
    "rltrain3[0]"
   ]
  },
  {
   "cell_type": "code",
   "execution_count": 201,
   "metadata": {},
   "outputs": [
    {
     "data": {
      "text/html": [
       "<div>\n",
       "<style scoped>\n",
       "    .dataframe tbody tr th:only-of-type {\n",
       "        vertical-align: middle;\n",
       "    }\n",
       "\n",
       "    .dataframe tbody tr th {\n",
       "        vertical-align: top;\n",
       "    }\n",
       "\n",
       "    .dataframe thead th {\n",
       "        text-align: right;\n",
       "    }\n",
       "</style>\n",
       "<table border=\"1\" class=\"dataframe\">\n",
       "  <thead>\n",
       "    <tr style=\"text-align: right;\">\n",
       "      <th></th>\n",
       "      <th>0</th>\n",
       "    </tr>\n",
       "  </thead>\n",
       "  <tbody>\n",
       "    <tr>\n",
       "      <th>Accuracy</th>\n",
       "      <td>0.992970</td>\n",
       "    </tr>\n",
       "    <tr>\n",
       "      <th>Error</th>\n",
       "      <td>0.007030</td>\n",
       "    </tr>\n",
       "    <tr>\n",
       "      <th>Precision</th>\n",
       "      <td>0.995349</td>\n",
       "    </tr>\n",
       "    <tr>\n",
       "      <th>Recall</th>\n",
       "      <td>0.986175</td>\n",
       "    </tr>\n",
       "    <tr>\n",
       "      <th>F1</th>\n",
       "      <td>0.990741</td>\n",
       "    </tr>\n",
       "  </tbody>\n",
       "</table>\n",
       "</div>"
      ],
      "text/plain": [
       "                  0\n",
       "Accuracy   0.992970\n",
       "Error      0.007030\n",
       "Precision  0.995349\n",
       "Recall     0.986175\n",
       "F1         0.990741"
      ]
     },
     "execution_count": 201,
     "metadata": {},
     "output_type": "execute_result"
    }
   ],
   "source": [
    "rltrain4 = rlfinal(ytrainrl,rltrainpred4)\n",
    "rltrain4[0]"
   ]
  },
  {
   "cell_type": "code",
   "execution_count": 203,
   "metadata": {},
   "outputs": [
    {
     "data": {
      "text/html": [
       "<div>\n",
       "<style scoped>\n",
       "    .dataframe tbody tr th:only-of-type {\n",
       "        vertical-align: middle;\n",
       "    }\n",
       "\n",
       "    .dataframe tbody tr th {\n",
       "        vertical-align: top;\n",
       "    }\n",
       "\n",
       "    .dataframe thead th {\n",
       "        text-align: right;\n",
       "    }\n",
       "</style>\n",
       "<table border=\"1\" class=\"dataframe\">\n",
       "  <thead>\n",
       "    <tr style=\"text-align: right;\">\n",
       "      <th></th>\n",
       "      <th>0</th>\n",
       "    </tr>\n",
       "  </thead>\n",
       "  <tbody>\n",
       "    <tr>\n",
       "      <th>Accuracy</th>\n",
       "      <td>0.671329</td>\n",
       "    </tr>\n",
       "    <tr>\n",
       "      <th>Error</th>\n",
       "      <td>0.328671</td>\n",
       "    </tr>\n",
       "    <tr>\n",
       "      <th>Precision</th>\n",
       "      <td>0.542373</td>\n",
       "    </tr>\n",
       "    <tr>\n",
       "      <th>Recall</th>\n",
       "      <td>0.615385</td>\n",
       "    </tr>\n",
       "    <tr>\n",
       "      <th>F1</th>\n",
       "      <td>0.576577</td>\n",
       "    </tr>\n",
       "  </tbody>\n",
       "</table>\n",
       "</div>"
      ],
      "text/plain": [
       "                  0\n",
       "Accuracy   0.671329\n",
       "Error      0.328671\n",
       "Precision  0.542373\n",
       "Recall     0.615385\n",
       "F1         0.576577"
      ]
     },
     "execution_count": 203,
     "metadata": {},
     "output_type": "execute_result"
    }
   ],
   "source": [
    "rlval = rlfinal(yvalrl,rlvalpred1)\n",
    "rlval[0]"
   ]
  },
  {
   "cell_type": "code",
   "execution_count": 206,
   "metadata": {},
   "outputs": [],
   "source": [
    "rl = pd.concat([rltrain1[0],rltrain2[0],rltrain3[0],rltrain4[0],rlval[0]],axis=1).T\n",
    "rl['Cadena de configuración'] = 'rl_train,lr=0.01,fr=0.01,epoch=200,batch=30','rl_train,lr=0.001,fr=10,epoch=200,batch=30','rl_train,lr=0.0001,fr=5,epoch=200,batch=30','rl_train,lr=0.0001,fr=0.01,epoch=200,batch=30','rl_val,lr=0.0001,fr=0.01,epoch=200,batch=30'\n",
    "rl['Modelo'] = 'RL','RL','RL','RL','RL'\n",
    "rl = rl[['Modelo','Cadena de configuración','Accuracy','Error','Precision','Recall','F1']]"
   ]
  },
  {
   "cell_type": "code",
   "execution_count": 207,
   "metadata": {},
   "outputs": [
    {
     "data": {
      "text/html": [
       "<div>\n",
       "<style scoped>\n",
       "    .dataframe tbody tr th:only-of-type {\n",
       "        vertical-align: middle;\n",
       "    }\n",
       "\n",
       "    .dataframe tbody tr th {\n",
       "        vertical-align: top;\n",
       "    }\n",
       "\n",
       "    .dataframe thead th {\n",
       "        text-align: right;\n",
       "    }\n",
       "</style>\n",
       "<table border=\"1\" class=\"dataframe\">\n",
       "  <thead>\n",
       "    <tr style=\"text-align: right;\">\n",
       "      <th></th>\n",
       "      <th>Modelo</th>\n",
       "      <th>Cadena de configuración</th>\n",
       "      <th>Accuracy</th>\n",
       "      <th>Error</th>\n",
       "      <th>Precision</th>\n",
       "      <th>Recall</th>\n",
       "      <th>F1</th>\n",
       "    </tr>\n",
       "  </thead>\n",
       "  <tbody>\n",
       "    <tr>\n",
       "      <th>0</th>\n",
       "      <td>RL</td>\n",
       "      <td>rl_train,lr=0.01,fr=0.01,epoch=200,batch=30</td>\n",
       "      <td>0.291740</td>\n",
       "      <td>0.708260</td>\n",
       "      <td>0.293333</td>\n",
       "      <td>0.608295</td>\n",
       "      <td>0.395802</td>\n",
       "    </tr>\n",
       "    <tr>\n",
       "      <th>0</th>\n",
       "      <td>RL</td>\n",
       "      <td>rl_train,lr=0.001,fr=10,epoch=200,batch=30</td>\n",
       "      <td>0.000000</td>\n",
       "      <td>1.000000</td>\n",
       "      <td>0.000000</td>\n",
       "      <td>0.000000</td>\n",
       "      <td>0.000000</td>\n",
       "    </tr>\n",
       "    <tr>\n",
       "      <th>0</th>\n",
       "      <td>RL</td>\n",
       "      <td>rl_train,lr=0.0001,fr=5,epoch=200,batch=30</td>\n",
       "      <td>0.000000</td>\n",
       "      <td>1.000000</td>\n",
       "      <td>0.000000</td>\n",
       "      <td>0.000000</td>\n",
       "      <td>0.000000</td>\n",
       "    </tr>\n",
       "    <tr>\n",
       "      <th>0</th>\n",
       "      <td>RL</td>\n",
       "      <td>rl_train,lr=0.0001,fr=0.01,epoch=200,batch=30</td>\n",
       "      <td>0.992970</td>\n",
       "      <td>0.007030</td>\n",
       "      <td>0.995349</td>\n",
       "      <td>0.986175</td>\n",
       "      <td>0.990741</td>\n",
       "    </tr>\n",
       "    <tr>\n",
       "      <th>0</th>\n",
       "      <td>RL</td>\n",
       "      <td>rl_val,lr=0.0001,fr=0.01,epoch=200,batch=30</td>\n",
       "      <td>0.671329</td>\n",
       "      <td>0.328671</td>\n",
       "      <td>0.542373</td>\n",
       "      <td>0.615385</td>\n",
       "      <td>0.576577</td>\n",
       "    </tr>\n",
       "  </tbody>\n",
       "</table>\n",
       "</div>"
      ],
      "text/plain": [
       "  Modelo                        Cadena de configuración  Accuracy     Error  \\\n",
       "0     RL    rl_train,lr=0.01,fr=0.01,epoch=200,batch=30  0.291740  0.708260   \n",
       "0     RL     rl_train,lr=0.001,fr=10,epoch=200,batch=30  0.000000  1.000000   \n",
       "0     RL     rl_train,lr=0.0001,fr=5,epoch=200,batch=30  0.000000  1.000000   \n",
       "0     RL  rl_train,lr=0.0001,fr=0.01,epoch=200,batch=30  0.992970  0.007030   \n",
       "0     RL    rl_val,lr=0.0001,fr=0.01,epoch=200,batch=30  0.671329  0.328671   \n",
       "\n",
       "   Precision    Recall        F1  \n",
       "0   0.293333  0.608295  0.395802  \n",
       "0   0.000000  0.000000  0.000000  \n",
       "0   0.000000  0.000000  0.000000  \n",
       "0   0.995349  0.986175  0.990741  \n",
       "0   0.542373  0.615385  0.576577  "
      ]
     },
     "execution_count": 207,
     "metadata": {},
     "output_type": "execute_result"
    }
   ],
   "source": [
    "rl"
   ]
  },
  {
   "cell_type": "markdown",
   "metadata": {},
   "source": [
    "Ahora se genera la tabla con los experimentos. Dicha tabla será guardada en un archivo csv. "
   ]
  },
  {
   "cell_type": "code",
   "execution_count": 216,
   "metadata": {},
   "outputs": [],
   "source": [
    "tabla1=pd.concat([dt,sv],axis=0)\n",
    "tabla2=pd.concat([tablaejemplo,nb],axis=0)\n",
    "tabla_train_val=pd.concat([tabla2,rl],axis=0)\n",
    "tabla_train_val.index = ['0','1','2','3','4','5','6','7','8','9','10','11']"
   ]
  },
  {
   "cell_type": "code",
   "execution_count": 217,
   "metadata": {},
   "outputs": [
    {
     "data": {
      "text/html": [
       "<div>\n",
       "<style scoped>\n",
       "    .dataframe tbody tr th:only-of-type {\n",
       "        vertical-align: middle;\n",
       "    }\n",
       "\n",
       "    .dataframe tbody tr th {\n",
       "        vertical-align: top;\n",
       "    }\n",
       "\n",
       "    .dataframe thead th {\n",
       "        text-align: right;\n",
       "    }\n",
       "</style>\n",
       "<table border=\"1\" class=\"dataframe\">\n",
       "  <thead>\n",
       "    <tr style=\"text-align: right;\">\n",
       "      <th></th>\n",
       "      <th>Modelo</th>\n",
       "      <th>Cadena de configuración</th>\n",
       "      <th>Accuracy</th>\n",
       "      <th>Error</th>\n",
       "      <th>Precision</th>\n",
       "      <th>Recall</th>\n",
       "      <th>F1</th>\n",
       "    </tr>\n",
       "  </thead>\n",
       "  <tbody>\n",
       "    <tr>\n",
       "      <th>0</th>\n",
       "      <td>Decision tree</td>\n",
       "      <td>D Tree train,md=3</td>\n",
       "      <td>0.841828</td>\n",
       "      <td>0.158172</td>\n",
       "      <td>0.904459</td>\n",
       "      <td>0.654378</td>\n",
       "      <td>0.759358</td>\n",
       "    </tr>\n",
       "    <tr>\n",
       "      <th>1</th>\n",
       "      <td>Decision tree</td>\n",
       "      <td>D Tree val,md=3</td>\n",
       "      <td>0.797203</td>\n",
       "      <td>0.202797</td>\n",
       "      <td>0.828571</td>\n",
       "      <td>0.557692</td>\n",
       "      <td>0.666667</td>\n",
       "    </tr>\n",
       "    <tr>\n",
       "      <th>2</th>\n",
       "      <td>Decision tree</td>\n",
       "      <td>D Tree val,md=5</td>\n",
       "      <td>0.783217</td>\n",
       "      <td>0.216783</td>\n",
       "      <td>0.769231</td>\n",
       "      <td>0.576923</td>\n",
       "      <td>0.659341</td>\n",
       "    </tr>\n",
       "    <tr>\n",
       "      <th>3</th>\n",
       "      <td>SVM</td>\n",
       "      <td>SVM train1,C=0.8</td>\n",
       "      <td>0.799649</td>\n",
       "      <td>0.200351</td>\n",
       "      <td>0.758794</td>\n",
       "      <td>0.695853</td>\n",
       "      <td>0.725962</td>\n",
       "    </tr>\n",
       "    <tr>\n",
       "      <th>4</th>\n",
       "      <td>SVM</td>\n",
       "      <td>SVM val1,C=0.8</td>\n",
       "      <td>0.748252</td>\n",
       "      <td>0.251748</td>\n",
       "      <td>0.660000</td>\n",
       "      <td>0.634615</td>\n",
       "      <td>0.647059</td>\n",
       "    </tr>\n",
       "    <tr>\n",
       "      <th>5</th>\n",
       "      <td>Naive Bayes</td>\n",
       "      <td>Naive Bayes train</td>\n",
       "      <td>0.762742</td>\n",
       "      <td>0.237258</td>\n",
       "      <td>0.688073</td>\n",
       "      <td>0.691244</td>\n",
       "      <td>0.689655</td>\n",
       "    </tr>\n",
       "    <tr>\n",
       "      <th>6</th>\n",
       "      <td>Naive Bayes</td>\n",
       "      <td>Naive Bayes validation</td>\n",
       "      <td>0.748252</td>\n",
       "      <td>0.251748</td>\n",
       "      <td>0.642857</td>\n",
       "      <td>0.692308</td>\n",
       "      <td>0.666667</td>\n",
       "    </tr>\n",
       "    <tr>\n",
       "      <th>7</th>\n",
       "      <td>RL</td>\n",
       "      <td>rl_train,lr=0.01,fr=0.01,epoch=200,batch=30</td>\n",
       "      <td>0.291740</td>\n",
       "      <td>0.708260</td>\n",
       "      <td>0.293333</td>\n",
       "      <td>0.608295</td>\n",
       "      <td>0.395802</td>\n",
       "    </tr>\n",
       "    <tr>\n",
       "      <th>8</th>\n",
       "      <td>RL</td>\n",
       "      <td>rl_train,lr=0.001,fr=10,epoch=200,batch=30</td>\n",
       "      <td>0.000000</td>\n",
       "      <td>1.000000</td>\n",
       "      <td>0.000000</td>\n",
       "      <td>0.000000</td>\n",
       "      <td>0.000000</td>\n",
       "    </tr>\n",
       "    <tr>\n",
       "      <th>9</th>\n",
       "      <td>RL</td>\n",
       "      <td>rl_train,lr=0.0001,fr=5,epoch=200,batch=30</td>\n",
       "      <td>0.000000</td>\n",
       "      <td>1.000000</td>\n",
       "      <td>0.000000</td>\n",
       "      <td>0.000000</td>\n",
       "      <td>0.000000</td>\n",
       "    </tr>\n",
       "    <tr>\n",
       "      <th>10</th>\n",
       "      <td>RL</td>\n",
       "      <td>rl_train,lr=0.0001,fr=0.01,epoch=200,batch=30</td>\n",
       "      <td>0.992970</td>\n",
       "      <td>0.007030</td>\n",
       "      <td>0.995349</td>\n",
       "      <td>0.986175</td>\n",
       "      <td>0.990741</td>\n",
       "    </tr>\n",
       "    <tr>\n",
       "      <th>11</th>\n",
       "      <td>RL</td>\n",
       "      <td>rl_val,lr=0.0001,fr=0.01,epoch=200,batch=30</td>\n",
       "      <td>0.671329</td>\n",
       "      <td>0.328671</td>\n",
       "      <td>0.542373</td>\n",
       "      <td>0.615385</td>\n",
       "      <td>0.576577</td>\n",
       "    </tr>\n",
       "  </tbody>\n",
       "</table>\n",
       "</div>"
      ],
      "text/plain": [
       "           Modelo                        Cadena de configuración  Accuracy  \\\n",
       "0   Decision tree                              D Tree train,md=3  0.841828   \n",
       "1   Decision tree                                D Tree val,md=3  0.797203   \n",
       "2   Decision tree                                D Tree val,md=5  0.783217   \n",
       "3             SVM                               SVM train1,C=0.8  0.799649   \n",
       "4             SVM                                 SVM val1,C=0.8  0.748252   \n",
       "5     Naive Bayes                              Naive Bayes train  0.762742   \n",
       "6     Naive Bayes                         Naive Bayes validation  0.748252   \n",
       "7              RL    rl_train,lr=0.01,fr=0.01,epoch=200,batch=30  0.291740   \n",
       "8              RL     rl_train,lr=0.001,fr=10,epoch=200,batch=30  0.000000   \n",
       "9              RL     rl_train,lr=0.0001,fr=5,epoch=200,batch=30  0.000000   \n",
       "10             RL  rl_train,lr=0.0001,fr=0.01,epoch=200,batch=30  0.992970   \n",
       "11             RL    rl_val,lr=0.0001,fr=0.01,epoch=200,batch=30  0.671329   \n",
       "\n",
       "       Error  Precision    Recall        F1  \n",
       "0   0.158172   0.904459  0.654378  0.759358  \n",
       "1   0.202797   0.828571  0.557692  0.666667  \n",
       "2   0.216783   0.769231  0.576923  0.659341  \n",
       "3   0.200351   0.758794  0.695853  0.725962  \n",
       "4   0.251748   0.660000  0.634615  0.647059  \n",
       "5   0.237258   0.688073  0.691244  0.689655  \n",
       "6   0.251748   0.642857  0.692308  0.666667  \n",
       "7   0.708260   0.293333  0.608295  0.395802  \n",
       "8   1.000000   0.000000  0.000000  0.000000  \n",
       "9   1.000000   0.000000  0.000000  0.000000  \n",
       "10  0.007030   0.995349  0.986175  0.990741  \n",
       "11  0.328671   0.542373  0.615385  0.576577  "
      ]
     },
     "execution_count": 217,
     "metadata": {},
     "output_type": "execute_result"
    }
   ],
   "source": [
    "tabla_train_val"
   ]
  },
  {
   "cell_type": "code",
   "execution_count": 222,
   "metadata": {},
   "outputs": [],
   "source": [
    "tabla_train_val.to_csv('experimentosML.csv')"
   ]
  },
  {
   "cell_type": "markdown",
   "metadata": {},
   "source": [
    "## Comentarios sobre Bootstrap y k-folds"
   ]
  },
  {
   "cell_type": "markdown",
   "metadata": {},
   "source": [
    "Bootstrap es una técnica de remuestreo con reemplazo que básicamente ayuda a incrementar el número de muestras de una población, lo que estadísticamente significa que la distribución de los datos, en la medida que el tamaño de la muestra aumenta, tiende a tener una distribución normal. En el proyecto pudimos haber generado más muestras tomando la data disponible para poder realizar inferencias, construir intervalos de confianza y estimar el sesgo y la varianza y analizar el trade-off entre ambas a medida que el modelo adquiría complejidad. \n",
    "\n",
    "Respecto a k-folds, en el proyecto hubiera sido de utilidad para evaluar al modelo enseñandole data desconocida de \"folds\" en los que se partió la data. El procedimiento hubiera sido el siguiente: la data se hubiera dividido en \"k\" grupos y luego, cada grupo por separado hubiera actuado como test set de los otros (por lo tanto, los grupos tambíen son training sets) y luego se hubiera entrenado al modelo para luego realizar predicciones con el test set. "
   ]
  },
  {
   "cell_type": "markdown",
   "metadata": {},
   "source": [
    "## Fase de predicción-prueba-evaluación final"
   ]
  },
  {
   "cell_type": "markdown",
   "metadata": {},
   "source": [
    "Ahora se utilizará el test set para que el modelo se enfrente a data que no ha visto. Luego, se obtendrán todas las predicciones y se realizará una moda para una respuesta final (ensemble learning).\n"
   ]
  },
  {
   "cell_type": "markdown",
   "metadata": {},
   "source": [
    "## 1. Decision tree"
   ]
  },
  {
   "cell_type": "code",
   "execution_count": 232,
   "metadata": {},
   "outputs": [],
   "source": [
    "test_dt = decisiontree(3,X_test,y_test)[1]"
   ]
  },
  {
   "cell_type": "markdown",
   "metadata": {},
   "source": [
    "## 2. SVM"
   ]
  },
  {
   "cell_type": "code",
   "execution_count": 233,
   "metadata": {},
   "outputs": [],
   "source": [
    "test_svm = svm(X_test,y_test,0.8)[1]"
   ]
  },
  {
   "cell_type": "markdown",
   "metadata": {},
   "source": [
    "## 3. Naive Bayes"
   ]
  },
  {
   "cell_type": "code",
   "execution_count": 239,
   "metadata": {},
   "outputs": [],
   "source": [
    "test_nb = naivebayes(xtest_nb,y_test)[1]"
   ]
  },
  {
   "cell_type": "markdown",
   "metadata": {},
   "source": [
    "## 4. Regresión logística"
   ]
  },
  {
   "cell_type": "code",
   "execution_count": 252,
   "metadata": {},
   "outputs": [],
   "source": [
    "test_rl1 = regresion_logistica(X_test,y_test,0.0001,0.15,200,30)[1]"
   ]
  },
  {
   "cell_type": "code",
   "execution_count": 258,
   "metadata": {},
   "outputs": [],
   "source": [
    "test_rl = rlfinal(ytestrl,test_rl1)[1].reshape(-1)"
   ]
  },
  {
   "cell_type": "markdown",
   "metadata": {},
   "source": [
    "Ahora se juntan todos las predicciones en un dataframe para luego obtener la moda."
   ]
  },
  {
   "cell_type": "code",
   "execution_count": 434,
   "metadata": {},
   "outputs": [],
   "source": [
    "list_test = [pd.Series(test_dt),pd.Series(test_svm),pd.Series(test_nb.values),pd.Series(test_rl)]"
   ]
  },
  {
   "cell_type": "code",
   "execution_count": 435,
   "metadata": {},
   "outputs": [],
   "source": [
    "df_test = pd.concat(list_test,axis=1,ignore_index=True)\n",
    "df_test.columns = ['Decision Tree','SVM','Naive Bayes','Regresión Logística']"
   ]
  },
  {
   "cell_type": "code",
   "execution_count": 436,
   "metadata": {},
   "outputs": [],
   "source": [
    "moda = df_test.mode(axis=1)"
   ]
  },
  {
   "cell_type": "code",
   "execution_count": 437,
   "metadata": {},
   "outputs": [],
   "source": [
    "df_test = pd.concat([df_test,moda],axis=1)\n"
   ]
  },
  {
   "cell_type": "code",
   "execution_count": 439,
   "metadata": {},
   "outputs": [],
   "source": [
    "df_test.columns = ['Decision Tree','SVM','Naive Bayes','Regresión Logística','Predicción final','moda2']"
   ]
  },
  {
   "cell_type": "code",
   "execution_count": 440,
   "metadata": {},
   "outputs": [
    {
     "data": {
      "text/html": [
       "<div>\n",
       "<style scoped>\n",
       "    .dataframe tbody tr th:only-of-type {\n",
       "        vertical-align: middle;\n",
       "    }\n",
       "\n",
       "    .dataframe tbody tr th {\n",
       "        vertical-align: top;\n",
       "    }\n",
       "\n",
       "    .dataframe thead th {\n",
       "        text-align: right;\n",
       "    }\n",
       "</style>\n",
       "<table border=\"1\" class=\"dataframe\">\n",
       "  <thead>\n",
       "    <tr style=\"text-align: right;\">\n",
       "      <th></th>\n",
       "      <th>Decision Tree</th>\n",
       "      <th>SVM</th>\n",
       "      <th>Naive Bayes</th>\n",
       "      <th>Regresión Logística</th>\n",
       "      <th>Predicción final</th>\n",
       "      <th>moda2</th>\n",
       "    </tr>\n",
       "  </thead>\n",
       "  <tbody>\n",
       "    <tr>\n",
       "      <th>0</th>\n",
       "      <td>1</td>\n",
       "      <td>1</td>\n",
       "      <td>1</td>\n",
       "      <td>1</td>\n",
       "      <td>1.0</td>\n",
       "      <td>NaN</td>\n",
       "    </tr>\n",
       "    <tr>\n",
       "      <th>1</th>\n",
       "      <td>0</td>\n",
       "      <td>0</td>\n",
       "      <td>0</td>\n",
       "      <td>1</td>\n",
       "      <td>0.0</td>\n",
       "      <td>NaN</td>\n",
       "    </tr>\n",
       "    <tr>\n",
       "      <th>2</th>\n",
       "      <td>1</td>\n",
       "      <td>1</td>\n",
       "      <td>1</td>\n",
       "      <td>1</td>\n",
       "      <td>1.0</td>\n",
       "      <td>NaN</td>\n",
       "    </tr>\n",
       "    <tr>\n",
       "      <th>3</th>\n",
       "      <td>1</td>\n",
       "      <td>1</td>\n",
       "      <td>0</td>\n",
       "      <td>1</td>\n",
       "      <td>1.0</td>\n",
       "      <td>NaN</td>\n",
       "    </tr>\n",
       "    <tr>\n",
       "      <th>4</th>\n",
       "      <td>1</td>\n",
       "      <td>1</td>\n",
       "      <td>1</td>\n",
       "      <td>1</td>\n",
       "      <td>1.0</td>\n",
       "      <td>NaN</td>\n",
       "    </tr>\n",
       "    <tr>\n",
       "      <th>5</th>\n",
       "      <td>0</td>\n",
       "      <td>0</td>\n",
       "      <td>0</td>\n",
       "      <td>1</td>\n",
       "      <td>0.0</td>\n",
       "      <td>NaN</td>\n",
       "    </tr>\n",
       "    <tr>\n",
       "      <th>6</th>\n",
       "      <td>0</td>\n",
       "      <td>0</td>\n",
       "      <td>0</td>\n",
       "      <td>1</td>\n",
       "      <td>0.0</td>\n",
       "      <td>NaN</td>\n",
       "    </tr>\n",
       "    <tr>\n",
       "      <th>7</th>\n",
       "      <td>1</td>\n",
       "      <td>1</td>\n",
       "      <td>1</td>\n",
       "      <td>1</td>\n",
       "      <td>1.0</td>\n",
       "      <td>NaN</td>\n",
       "    </tr>\n",
       "    <tr>\n",
       "      <th>8</th>\n",
       "      <td>0</td>\n",
       "      <td>0</td>\n",
       "      <td>1</td>\n",
       "      <td>1</td>\n",
       "      <td>0.0</td>\n",
       "      <td>1.0</td>\n",
       "    </tr>\n",
       "    <tr>\n",
       "      <th>9</th>\n",
       "      <td>1</td>\n",
       "      <td>1</td>\n",
       "      <td>1</td>\n",
       "      <td>0</td>\n",
       "      <td>1.0</td>\n",
       "      <td>NaN</td>\n",
       "    </tr>\n",
       "    <tr>\n",
       "      <th>10</th>\n",
       "      <td>0</td>\n",
       "      <td>0</td>\n",
       "      <td>0</td>\n",
       "      <td>1</td>\n",
       "      <td>0.0</td>\n",
       "      <td>NaN</td>\n",
       "    </tr>\n",
       "    <tr>\n",
       "      <th>11</th>\n",
       "      <td>0</td>\n",
       "      <td>1</td>\n",
       "      <td>0</td>\n",
       "      <td>1</td>\n",
       "      <td>0.0</td>\n",
       "      <td>1.0</td>\n",
       "    </tr>\n",
       "    <tr>\n",
       "      <th>12</th>\n",
       "      <td>0</td>\n",
       "      <td>0</td>\n",
       "      <td>0</td>\n",
       "      <td>1</td>\n",
       "      <td>0.0</td>\n",
       "      <td>NaN</td>\n",
       "    </tr>\n",
       "    <tr>\n",
       "      <th>13</th>\n",
       "      <td>0</td>\n",
       "      <td>0</td>\n",
       "      <td>0</td>\n",
       "      <td>0</td>\n",
       "      <td>0.0</td>\n",
       "      <td>NaN</td>\n",
       "    </tr>\n",
       "    <tr>\n",
       "      <th>14</th>\n",
       "      <td>1</td>\n",
       "      <td>1</td>\n",
       "      <td>0</td>\n",
       "      <td>0</td>\n",
       "      <td>0.0</td>\n",
       "      <td>1.0</td>\n",
       "    </tr>\n",
       "    <tr>\n",
       "      <th>15</th>\n",
       "      <td>0</td>\n",
       "      <td>0</td>\n",
       "      <td>0</td>\n",
       "      <td>0</td>\n",
       "      <td>0.0</td>\n",
       "      <td>NaN</td>\n",
       "    </tr>\n",
       "    <tr>\n",
       "      <th>16</th>\n",
       "      <td>0</td>\n",
       "      <td>0</td>\n",
       "      <td>0</td>\n",
       "      <td>1</td>\n",
       "      <td>0.0</td>\n",
       "      <td>NaN</td>\n",
       "    </tr>\n",
       "    <tr>\n",
       "      <th>17</th>\n",
       "      <td>0</td>\n",
       "      <td>0</td>\n",
       "      <td>0</td>\n",
       "      <td>1</td>\n",
       "      <td>0.0</td>\n",
       "      <td>NaN</td>\n",
       "    </tr>\n",
       "    <tr>\n",
       "      <th>18</th>\n",
       "      <td>0</td>\n",
       "      <td>0</td>\n",
       "      <td>0</td>\n",
       "      <td>1</td>\n",
       "      <td>0.0</td>\n",
       "      <td>NaN</td>\n",
       "    </tr>\n",
       "    <tr>\n",
       "      <th>19</th>\n",
       "      <td>1</td>\n",
       "      <td>1</td>\n",
       "      <td>1</td>\n",
       "      <td>1</td>\n",
       "      <td>1.0</td>\n",
       "      <td>NaN</td>\n",
       "    </tr>\n",
       "    <tr>\n",
       "      <th>20</th>\n",
       "      <td>0</td>\n",
       "      <td>0</td>\n",
       "      <td>0</td>\n",
       "      <td>1</td>\n",
       "      <td>0.0</td>\n",
       "      <td>NaN</td>\n",
       "    </tr>\n",
       "    <tr>\n",
       "      <th>21</th>\n",
       "      <td>0</td>\n",
       "      <td>0</td>\n",
       "      <td>0</td>\n",
       "      <td>1</td>\n",
       "      <td>0.0</td>\n",
       "      <td>NaN</td>\n",
       "    </tr>\n",
       "    <tr>\n",
       "      <th>22</th>\n",
       "      <td>1</td>\n",
       "      <td>1</td>\n",
       "      <td>1</td>\n",
       "      <td>1</td>\n",
       "      <td>1.0</td>\n",
       "      <td>NaN</td>\n",
       "    </tr>\n",
       "    <tr>\n",
       "      <th>23</th>\n",
       "      <td>0</td>\n",
       "      <td>0</td>\n",
       "      <td>1</td>\n",
       "      <td>1</td>\n",
       "      <td>0.0</td>\n",
       "      <td>1.0</td>\n",
       "    </tr>\n",
       "    <tr>\n",
       "      <th>24</th>\n",
       "      <td>1</td>\n",
       "      <td>1</td>\n",
       "      <td>1</td>\n",
       "      <td>1</td>\n",
       "      <td>1.0</td>\n",
       "      <td>NaN</td>\n",
       "    </tr>\n",
       "    <tr>\n",
       "      <th>25</th>\n",
       "      <td>0</td>\n",
       "      <td>0</td>\n",
       "      <td>0</td>\n",
       "      <td>0</td>\n",
       "      <td>0.0</td>\n",
       "      <td>NaN</td>\n",
       "    </tr>\n",
       "    <tr>\n",
       "      <th>26</th>\n",
       "      <td>1</td>\n",
       "      <td>1</td>\n",
       "      <td>1</td>\n",
       "      <td>1</td>\n",
       "      <td>1.0</td>\n",
       "      <td>NaN</td>\n",
       "    </tr>\n",
       "    <tr>\n",
       "      <th>27</th>\n",
       "      <td>1</td>\n",
       "      <td>1</td>\n",
       "      <td>0</td>\n",
       "      <td>1</td>\n",
       "      <td>1.0</td>\n",
       "      <td>NaN</td>\n",
       "    </tr>\n",
       "    <tr>\n",
       "      <th>28</th>\n",
       "      <td>0</td>\n",
       "      <td>0</td>\n",
       "      <td>0</td>\n",
       "      <td>1</td>\n",
       "      <td>0.0</td>\n",
       "      <td>NaN</td>\n",
       "    </tr>\n",
       "    <tr>\n",
       "      <th>29</th>\n",
       "      <td>1</td>\n",
       "      <td>1</td>\n",
       "      <td>1</td>\n",
       "      <td>1</td>\n",
       "      <td>1.0</td>\n",
       "      <td>NaN</td>\n",
       "    </tr>\n",
       "    <tr>\n",
       "      <th>...</th>\n",
       "      <td>...</td>\n",
       "      <td>...</td>\n",
       "      <td>...</td>\n",
       "      <td>...</td>\n",
       "      <td>...</td>\n",
       "      <td>...</td>\n",
       "    </tr>\n",
       "    <tr>\n",
       "      <th>149</th>\n",
       "      <td>0</td>\n",
       "      <td>0</td>\n",
       "      <td>0</td>\n",
       "      <td>1</td>\n",
       "      <td>0.0</td>\n",
       "      <td>NaN</td>\n",
       "    </tr>\n",
       "    <tr>\n",
       "      <th>150</th>\n",
       "      <td>0</td>\n",
       "      <td>1</td>\n",
       "      <td>1</td>\n",
       "      <td>0</td>\n",
       "      <td>0.0</td>\n",
       "      <td>1.0</td>\n",
       "    </tr>\n",
       "    <tr>\n",
       "      <th>151</th>\n",
       "      <td>0</td>\n",
       "      <td>0</td>\n",
       "      <td>0</td>\n",
       "      <td>1</td>\n",
       "      <td>0.0</td>\n",
       "      <td>NaN</td>\n",
       "    </tr>\n",
       "    <tr>\n",
       "      <th>152</th>\n",
       "      <td>1</td>\n",
       "      <td>0</td>\n",
       "      <td>0</td>\n",
       "      <td>1</td>\n",
       "      <td>0.0</td>\n",
       "      <td>1.0</td>\n",
       "    </tr>\n",
       "    <tr>\n",
       "      <th>153</th>\n",
       "      <td>1</td>\n",
       "      <td>1</td>\n",
       "      <td>0</td>\n",
       "      <td>0</td>\n",
       "      <td>0.0</td>\n",
       "      <td>1.0</td>\n",
       "    </tr>\n",
       "    <tr>\n",
       "      <th>154</th>\n",
       "      <td>0</td>\n",
       "      <td>0</td>\n",
       "      <td>0</td>\n",
       "      <td>0</td>\n",
       "      <td>0.0</td>\n",
       "      <td>NaN</td>\n",
       "    </tr>\n",
       "    <tr>\n",
       "      <th>155</th>\n",
       "      <td>0</td>\n",
       "      <td>0</td>\n",
       "      <td>0</td>\n",
       "      <td>1</td>\n",
       "      <td>0.0</td>\n",
       "      <td>NaN</td>\n",
       "    </tr>\n",
       "    <tr>\n",
       "      <th>156</th>\n",
       "      <td>0</td>\n",
       "      <td>0</td>\n",
       "      <td>0</td>\n",
       "      <td>1</td>\n",
       "      <td>0.0</td>\n",
       "      <td>NaN</td>\n",
       "    </tr>\n",
       "    <tr>\n",
       "      <th>157</th>\n",
       "      <td>0</td>\n",
       "      <td>0</td>\n",
       "      <td>0</td>\n",
       "      <td>1</td>\n",
       "      <td>0.0</td>\n",
       "      <td>NaN</td>\n",
       "    </tr>\n",
       "    <tr>\n",
       "      <th>158</th>\n",
       "      <td>1</td>\n",
       "      <td>1</td>\n",
       "      <td>1</td>\n",
       "      <td>1</td>\n",
       "      <td>1.0</td>\n",
       "      <td>NaN</td>\n",
       "    </tr>\n",
       "    <tr>\n",
       "      <th>159</th>\n",
       "      <td>0</td>\n",
       "      <td>0</td>\n",
       "      <td>0</td>\n",
       "      <td>1</td>\n",
       "      <td>0.0</td>\n",
       "      <td>NaN</td>\n",
       "    </tr>\n",
       "    <tr>\n",
       "      <th>160</th>\n",
       "      <td>0</td>\n",
       "      <td>0</td>\n",
       "      <td>0</td>\n",
       "      <td>1</td>\n",
       "      <td>0.0</td>\n",
       "      <td>NaN</td>\n",
       "    </tr>\n",
       "    <tr>\n",
       "      <th>161</th>\n",
       "      <td>0</td>\n",
       "      <td>0</td>\n",
       "      <td>0</td>\n",
       "      <td>1</td>\n",
       "      <td>0.0</td>\n",
       "      <td>NaN</td>\n",
       "    </tr>\n",
       "    <tr>\n",
       "      <th>162</th>\n",
       "      <td>0</td>\n",
       "      <td>1</td>\n",
       "      <td>0</td>\n",
       "      <td>1</td>\n",
       "      <td>0.0</td>\n",
       "      <td>1.0</td>\n",
       "    </tr>\n",
       "    <tr>\n",
       "      <th>163</th>\n",
       "      <td>0</td>\n",
       "      <td>0</td>\n",
       "      <td>0</td>\n",
       "      <td>0</td>\n",
       "      <td>0.0</td>\n",
       "      <td>NaN</td>\n",
       "    </tr>\n",
       "    <tr>\n",
       "      <th>164</th>\n",
       "      <td>0</td>\n",
       "      <td>0</td>\n",
       "      <td>0</td>\n",
       "      <td>1</td>\n",
       "      <td>0.0</td>\n",
       "      <td>NaN</td>\n",
       "    </tr>\n",
       "    <tr>\n",
       "      <th>165</th>\n",
       "      <td>1</td>\n",
       "      <td>1</td>\n",
       "      <td>1</td>\n",
       "      <td>0</td>\n",
       "      <td>1.0</td>\n",
       "      <td>NaN</td>\n",
       "    </tr>\n",
       "    <tr>\n",
       "      <th>166</th>\n",
       "      <td>1</td>\n",
       "      <td>1</td>\n",
       "      <td>1</td>\n",
       "      <td>1</td>\n",
       "      <td>1.0</td>\n",
       "      <td>NaN</td>\n",
       "    </tr>\n",
       "    <tr>\n",
       "      <th>167</th>\n",
       "      <td>0</td>\n",
       "      <td>0</td>\n",
       "      <td>0</td>\n",
       "      <td>0</td>\n",
       "      <td>0.0</td>\n",
       "      <td>NaN</td>\n",
       "    </tr>\n",
       "    <tr>\n",
       "      <th>168</th>\n",
       "      <td>0</td>\n",
       "      <td>0</td>\n",
       "      <td>0</td>\n",
       "      <td>1</td>\n",
       "      <td>0.0</td>\n",
       "      <td>NaN</td>\n",
       "    </tr>\n",
       "    <tr>\n",
       "      <th>169</th>\n",
       "      <td>0</td>\n",
       "      <td>0</td>\n",
       "      <td>1</td>\n",
       "      <td>1</td>\n",
       "      <td>0.0</td>\n",
       "      <td>1.0</td>\n",
       "    </tr>\n",
       "    <tr>\n",
       "      <th>170</th>\n",
       "      <td>1</td>\n",
       "      <td>1</td>\n",
       "      <td>1</td>\n",
       "      <td>1</td>\n",
       "      <td>1.0</td>\n",
       "      <td>NaN</td>\n",
       "    </tr>\n",
       "    <tr>\n",
       "      <th>171</th>\n",
       "      <td>0</td>\n",
       "      <td>1</td>\n",
       "      <td>1</td>\n",
       "      <td>1</td>\n",
       "      <td>1.0</td>\n",
       "      <td>NaN</td>\n",
       "    </tr>\n",
       "    <tr>\n",
       "      <th>172</th>\n",
       "      <td>1</td>\n",
       "      <td>1</td>\n",
       "      <td>1</td>\n",
       "      <td>1</td>\n",
       "      <td>1.0</td>\n",
       "      <td>NaN</td>\n",
       "    </tr>\n",
       "    <tr>\n",
       "      <th>173</th>\n",
       "      <td>0</td>\n",
       "      <td>0</td>\n",
       "      <td>0</td>\n",
       "      <td>1</td>\n",
       "      <td>0.0</td>\n",
       "      <td>NaN</td>\n",
       "    </tr>\n",
       "    <tr>\n",
       "      <th>174</th>\n",
       "      <td>1</td>\n",
       "      <td>1</td>\n",
       "      <td>1</td>\n",
       "      <td>1</td>\n",
       "      <td>1.0</td>\n",
       "      <td>NaN</td>\n",
       "    </tr>\n",
       "    <tr>\n",
       "      <th>175</th>\n",
       "      <td>0</td>\n",
       "      <td>0</td>\n",
       "      <td>0</td>\n",
       "      <td>1</td>\n",
       "      <td>0.0</td>\n",
       "      <td>NaN</td>\n",
       "    </tr>\n",
       "    <tr>\n",
       "      <th>176</th>\n",
       "      <td>0</td>\n",
       "      <td>0</td>\n",
       "      <td>0</td>\n",
       "      <td>1</td>\n",
       "      <td>0.0</td>\n",
       "      <td>NaN</td>\n",
       "    </tr>\n",
       "    <tr>\n",
       "      <th>177</th>\n",
       "      <td>0</td>\n",
       "      <td>0</td>\n",
       "      <td>0</td>\n",
       "      <td>1</td>\n",
       "      <td>0.0</td>\n",
       "      <td>NaN</td>\n",
       "    </tr>\n",
       "    <tr>\n",
       "      <th>178</th>\n",
       "      <td>1</td>\n",
       "      <td>1</td>\n",
       "      <td>1</td>\n",
       "      <td>0</td>\n",
       "      <td>1.0</td>\n",
       "      <td>NaN</td>\n",
       "    </tr>\n",
       "  </tbody>\n",
       "</table>\n",
       "<p>179 rows × 6 columns</p>\n",
       "</div>"
      ],
      "text/plain": [
       "     Decision Tree  SVM  Naive Bayes  Regresión Logística  Predicción final  \\\n",
       "0                1    1            1                    1               1.0   \n",
       "1                0    0            0                    1               0.0   \n",
       "2                1    1            1                    1               1.0   \n",
       "3                1    1            0                    1               1.0   \n",
       "4                1    1            1                    1               1.0   \n",
       "5                0    0            0                    1               0.0   \n",
       "6                0    0            0                    1               0.0   \n",
       "7                1    1            1                    1               1.0   \n",
       "8                0    0            1                    1               0.0   \n",
       "9                1    1            1                    0               1.0   \n",
       "10               0    0            0                    1               0.0   \n",
       "11               0    1            0                    1               0.0   \n",
       "12               0    0            0                    1               0.0   \n",
       "13               0    0            0                    0               0.0   \n",
       "14               1    1            0                    0               0.0   \n",
       "15               0    0            0                    0               0.0   \n",
       "16               0    0            0                    1               0.0   \n",
       "17               0    0            0                    1               0.0   \n",
       "18               0    0            0                    1               0.0   \n",
       "19               1    1            1                    1               1.0   \n",
       "20               0    0            0                    1               0.0   \n",
       "21               0    0            0                    1               0.0   \n",
       "22               1    1            1                    1               1.0   \n",
       "23               0    0            1                    1               0.0   \n",
       "24               1    1            1                    1               1.0   \n",
       "25               0    0            0                    0               0.0   \n",
       "26               1    1            1                    1               1.0   \n",
       "27               1    1            0                    1               1.0   \n",
       "28               0    0            0                    1               0.0   \n",
       "29               1    1            1                    1               1.0   \n",
       "..             ...  ...          ...                  ...               ...   \n",
       "149              0    0            0                    1               0.0   \n",
       "150              0    1            1                    0               0.0   \n",
       "151              0    0            0                    1               0.0   \n",
       "152              1    0            0                    1               0.0   \n",
       "153              1    1            0                    0               0.0   \n",
       "154              0    0            0                    0               0.0   \n",
       "155              0    0            0                    1               0.0   \n",
       "156              0    0            0                    1               0.0   \n",
       "157              0    0            0                    1               0.0   \n",
       "158              1    1            1                    1               1.0   \n",
       "159              0    0            0                    1               0.0   \n",
       "160              0    0            0                    1               0.0   \n",
       "161              0    0            0                    1               0.0   \n",
       "162              0    1            0                    1               0.0   \n",
       "163              0    0            0                    0               0.0   \n",
       "164              0    0            0                    1               0.0   \n",
       "165              1    1            1                    0               1.0   \n",
       "166              1    1            1                    1               1.0   \n",
       "167              0    0            0                    0               0.0   \n",
       "168              0    0            0                    1               0.0   \n",
       "169              0    0            1                    1               0.0   \n",
       "170              1    1            1                    1               1.0   \n",
       "171              0    1            1                    1               1.0   \n",
       "172              1    1            1                    1               1.0   \n",
       "173              0    0            0                    1               0.0   \n",
       "174              1    1            1                    1               1.0   \n",
       "175              0    0            0                    1               0.0   \n",
       "176              0    0            0                    1               0.0   \n",
       "177              0    0            0                    1               0.0   \n",
       "178              1    1            1                    0               1.0   \n",
       "\n",
       "     moda2  \n",
       "0      NaN  \n",
       "1      NaN  \n",
       "2      NaN  \n",
       "3      NaN  \n",
       "4      NaN  \n",
       "5      NaN  \n",
       "6      NaN  \n",
       "7      NaN  \n",
       "8      1.0  \n",
       "9      NaN  \n",
       "10     NaN  \n",
       "11     1.0  \n",
       "12     NaN  \n",
       "13     NaN  \n",
       "14     1.0  \n",
       "15     NaN  \n",
       "16     NaN  \n",
       "17     NaN  \n",
       "18     NaN  \n",
       "19     NaN  \n",
       "20     NaN  \n",
       "21     NaN  \n",
       "22     NaN  \n",
       "23     1.0  \n",
       "24     NaN  \n",
       "25     NaN  \n",
       "26     NaN  \n",
       "27     NaN  \n",
       "28     NaN  \n",
       "29     NaN  \n",
       "..     ...  \n",
       "149    NaN  \n",
       "150    1.0  \n",
       "151    NaN  \n",
       "152    1.0  \n",
       "153    1.0  \n",
       "154    NaN  \n",
       "155    NaN  \n",
       "156    NaN  \n",
       "157    NaN  \n",
       "158    NaN  \n",
       "159    NaN  \n",
       "160    NaN  \n",
       "161    NaN  \n",
       "162    1.0  \n",
       "163    NaN  \n",
       "164    NaN  \n",
       "165    NaN  \n",
       "166    NaN  \n",
       "167    NaN  \n",
       "168    NaN  \n",
       "169    1.0  \n",
       "170    NaN  \n",
       "171    NaN  \n",
       "172    NaN  \n",
       "173    NaN  \n",
       "174    NaN  \n",
       "175    NaN  \n",
       "176    NaN  \n",
       "177    NaN  \n",
       "178    NaN  \n",
       "\n",
       "[179 rows x 6 columns]"
      ]
     },
     "execution_count": 440,
     "metadata": {},
     "output_type": "execute_result"
    }
   ],
   "source": [
    "df_test"
   ]
  },
  {
   "cell_type": "code",
   "execution_count": 441,
   "metadata": {},
   "outputs": [],
   "source": [
    "def metricas_ensemble(Y,yhat):\n",
    "    accuracy = accuracy_score(Y,yhat)\n",
    "    error = 1 - accuracy\n",
    "    f1 = f1_score(Y,yhat)\n",
    "    precision = precision_score(Y,yhat)\n",
    "    recall = recall_score(Y,yhat)\n",
    "    metricas_array = np.array([accuracy,error,precision,recall,f1])\n",
    "    df_metricas=pd.DataFrame(metricas_array,index=['Accuracy','Error','Precision','Recall','F1'])\n",
    "    return df_metricas"
   ]
  },
  {
   "cell_type": "code",
   "execution_count": 442,
   "metadata": {},
   "outputs": [
    {
     "data": {
      "text/html": [
       "<div>\n",
       "<style scoped>\n",
       "    .dataframe tbody tr th:only-of-type {\n",
       "        vertical-align: middle;\n",
       "    }\n",
       "\n",
       "    .dataframe tbody tr th {\n",
       "        vertical-align: top;\n",
       "    }\n",
       "\n",
       "    .dataframe thead th {\n",
       "        text-align: right;\n",
       "    }\n",
       "</style>\n",
       "<table border=\"1\" class=\"dataframe\">\n",
       "  <thead>\n",
       "    <tr style=\"text-align: right;\">\n",
       "      <th></th>\n",
       "      <th>0</th>\n",
       "    </tr>\n",
       "  </thead>\n",
       "  <tbody>\n",
       "    <tr>\n",
       "      <th>Accuracy</th>\n",
       "      <td>0.720670</td>\n",
       "    </tr>\n",
       "    <tr>\n",
       "      <th>Error</th>\n",
       "      <td>0.279330</td>\n",
       "    </tr>\n",
       "    <tr>\n",
       "      <th>Precision</th>\n",
       "      <td>0.755556</td>\n",
       "    </tr>\n",
       "    <tr>\n",
       "      <th>Recall</th>\n",
       "      <td>0.465753</td>\n",
       "    </tr>\n",
       "    <tr>\n",
       "      <th>F1</th>\n",
       "      <td>0.576271</td>\n",
       "    </tr>\n",
       "  </tbody>\n",
       "</table>\n",
       "</div>"
      ],
      "text/plain": [
       "                  0\n",
       "Accuracy   0.720670\n",
       "Error      0.279330\n",
       "Precision  0.755556\n",
       "Recall     0.465753\n",
       "F1         0.576271"
      ]
     },
     "execution_count": 442,
     "metadata": {},
     "output_type": "execute_result"
    }
   ],
   "source": [
    "metricas_ensemble(y_test,df_test['Predicción final'])"
   ]
  },
  {
   "cell_type": "markdown",
   "metadata": {},
   "source": [
    "## Conclusiones"
   ]
  },
  {
   "cell_type": "markdown",
   "metadata": {},
   "source": [
    "El proyecto fue bastante retador porque nos obligó como estudiantes a combinar todo lo que aprendimos no solo en el curso de Statiscal learning I, sino trambién en el curso de Ciencia de Datos en Python. En lo personal, mi mayor dificultad fue implementar naive bayes y la regresión logística. El primero porque comprendía la parte matemática pero la codificación era una barrera para materializar el objetivo. El segundo porque tensorflow es una librería que me ha costado aprender a utilizar. Las lecciones que guardo son varias, sobre todo porque aprendí  reconocer mis deficiencias a la hora de implementar código. Quizás el modelo de naive bayes pudo haber sido más eficiente, entonces son áreas en las que debo trabajar. \n",
    "\n",
    "Un apunte importante es que durante el proyecto, y sobre todo en el modelo naive bayes me di cuenta de lo amplia que es Pandas y que muchas operaciones que yo pensaba en utilizar ciclos, Pandas las resolvía sin la complejidad detrás de construir el mismo. Sin duda es una herramienta imprescindible en el toolkit de un data scientist. \n",
    "\n",
    "En cuanto al accuracy de los modelos, la regresión logística fue la más dificl y la que peor desempeño tuvo. Hay mucho por aprender acerca de cómo escoger el nivel óptimo de los hiperparámetros. El SVM me hubiera gustado poder implementar todos los kernels, pero debido a limitaciones técnicas por mi computadora el proceso de carga era demasiado lento. \n",
    "\n",
    "Las conclusiones después de haber realizado estos modelos se basan en que sin duda, utilizar sklearn no presupone el esfuerzo y la complejidad propia de tensoflow. Sin embargo, es una herramienta atractiva con la cual se puede aprender sobre el funcionamiento de un algoritmo. De igual manera, en este trabajo se pudo reforzar la importancia de analizar la data antes de empezar a construir modelos. Seleccionar y transformar las variables fueron tareas interesantes, sobre todo la de convertir las variables continuas en variables categóricas (tarea en donde Pandas fue la herramienta más sencilla y rápida para hacerlo). \n",
    "\n",
    "La mayor recomendación es la de seguir aprendiendo a programar y a tratar de reforzar la lógica detrás de cada línea de código, lo cual exige que también se estudie y se entienda el fundamento matemático de lo que después se programa. "
   ]
  },
  {
   "cell_type": "code",
   "execution_count": null,
   "metadata": {},
   "outputs": [],
   "source": []
  }
 ],
 "metadata": {
  "kernelspec": {
   "display_name": "Python 3",
   "language": "python",
   "name": "python3"
  },
  "language_info": {
   "codemirror_mode": {
    "name": "ipython",
    "version": 3
   },
   "file_extension": ".py",
   "mimetype": "text/x-python",
   "name": "python",
   "nbconvert_exporter": "python",
   "pygments_lexer": "ipython3",
   "version": "3.7.1"
  }
 },
 "nbformat": 4,
 "nbformat_minor": 2
}
